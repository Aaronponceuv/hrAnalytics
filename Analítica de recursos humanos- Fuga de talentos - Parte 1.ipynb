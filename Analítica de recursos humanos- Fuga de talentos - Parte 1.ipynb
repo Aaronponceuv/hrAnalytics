{
 "cells": [
  {
   "cell_type": "code",
   "execution_count": 1,
   "metadata": {
    "collapsed": true
   },
   "outputs": [],
   "source": [
    "import pandas as pd\n",
    "import numpy as np\n",
    "import scipy as sp\n",
    "import statsmodels.formula.api as smf\n",
    "%matplotlib inline\n",
    "import matplotlib.pyplot as plt\n",
    "import seaborn as sns\n",
    "sns.set()\n",
    "import matplotlib as mpl\n",
    "mpl.rcParams['agg.path.chunksize'] = 10000000 # Jupyter notebook backend restricts number of points in plot\n",
    "import plotly.plotly as py\n",
    "from plotly.graph_objs import Figure,Layout,Scatter,Bar\n",
    "from time import time\n",
    "from collections import Counter\n",
    "from imblearn.under_sampling import RandomUnderSampler\n",
    "from imblearn.over_sampling import SMOTE\n",
    "from sklearn.preprocessing import StandardScaler,scale,binarize\n",
    "from sklearn.feature_selection import SelectKBest,mutual_info_classif,chi2,RFE,RFECV,SelectFromModel\n",
    "from sklearn.ensemble import GradientBoostingClassifier,RandomForestClassifier\n",
    "from sklearn.svm import LinearSVC\n",
    "from sklearn.linear_model import LogisticRegression\n",
    "from sklearn.metrics import accuracy_score, roc_auc_score, roc_curve, auc,classification_report,confusion_matrix\n",
    "from sklearn.model_selection import train_test_split,cross_validate,StratifiedKFold,KFold,GridSearchCV,RandomizedSearchCV"
   ]
  },
  {
   "cell_type": "markdown",
   "metadata": {},
   "source": [
    "### Creación de funciones\n",
    "\n",
    "* La función plot_pie fué extraída de un notebook en Kaggle (espero encontrarla pronto para agregar la referencia=\n",
    "\n",
    "* El resto de las funciones fueron creadas por mi para simplificarme algunas tareas repetitivas y/o que la función em entregue la interpretación del test directamente"
   ]
  },
  {
   "cell_type": "code",
   "execution_count": 2,
   "metadata": {
    "collapsed": true
   },
   "outputs": [],
   "source": [
    "def plot_pie(y):\n",
    "    target_stats = Counter(y)\n",
    "    labels = list(target_stats.keys())\n",
    "    sizes = list(target_stats.values())\n",
    "    explode = tuple([0.1] * len(target_stats))\n",
    "\n",
    "    fig, ax = plt.subplots()\n",
    "    ax.pie(sizes, explode=explode, labels=labels, shadow=True,\n",
    "           autopct='%1.1f%%')\n",
    "    ax.axis('equal')\n",
    "    \n",
    "def transformacion_logaritmica(x):\n",
    "    if(x==0):\n",
    "        return 0\n",
    "    else:\n",
    "        return np.log(x)\n",
    "    \n",
    "def expected_values(var1,var2):\n",
    "    contingencyTable = pd.crosstab(index=var1,columns=var2,margins=True)\n",
    "    expected =  np.outer(contingencyTable.iloc[0:(len(contingencyTable.index)-1)]['All'],\n",
    "                         contingencyTable.loc[\"All\"][0:(len(contingencyTable.columns)-1)]/contingencyTable.loc[\"All\"]['All'])\n",
    "    expected = pd.DataFrame(expected)\n",
    "    expected.columns = contingencyTable.columns[0:(len(contingencyTable.columns)-1)]\n",
    "    expected.index = contingencyTable.index[0:(len(contingencyTable.index)-1)]\n",
    "    return expected\n",
    "\n",
    "def chi2_test(var1,var2,alpha=0.95):\n",
    "    #Creamos la tabla de contingencia con los valores totales\n",
    "    contingencyTable = pd.crosstab(index=var1,columns=var2,margins=True)\n",
    "    #Creamos la tabla de valores esperados\n",
    "    expected =  np.outer(contingencyTable.iloc[0:(len(contingencyTable.index)-1)]['All'],\n",
    "                         contingencyTable.loc[\"All\"][0:(len(contingencyTable.columns)-1)]/contingencyTable.loc[\"All\"]['All'])\n",
    "    expected = pd.DataFrame(expected)\n",
    "    expected.columns = contingencyTable.columns[0:(len(contingencyTable.columns)-1)]\n",
    "    expected.index = contingencyTable.index[0:(len(contingencyTable.index)-1)]\n",
    "    #Creamos la tabla de contingencia sin los valores totales\n",
    "    contingencyTable = pd.crosstab(index=var1,columns=var2)\n",
    "    #calculamos el valor calculado de chi2\n",
    "    chi_squared_stat = (((contingencyTable-expected)**2)/expected).sum().sum()\n",
    "    #calculamos los grados de libertad\n",
    "    dof=(len(contingencyTable.columns)-1)*(len(contingencyTable.index)-1)\n",
    "    #calculamos el valor crítico de chi2\n",
    "    crit = sp.stats.chi2.ppf(q = alpha,df = dof)\n",
    "    #calulamos el p-valor\n",
    "    p_value = 1 - sp.stats.chi2.cdf(x=chi_squared_stat,df=dof)\n",
    "    #testeamos la hipótesis nula de independencia entre las variables\n",
    "    if(chi_squared_stat<=crit):\n",
    "        print('se acepta H0, los valores son independientes y el p-valor es: {}'\n",
    "              '\\n el p-valor es:'.format(round(p_value,4)))\n",
    "        print(\"los valores esperados son: \"+ str(expected))\n",
    "    else:\n",
    "        print('Se rechaza H0, no hay evidencia para decir que los valores son independientes'\n",
    "              '\\n y el p-valor es: {}'.format(round(p_value,4)))\n",
    "        print(\"los valores esperados son: \"+ str(expected))"
   ]
  },
  {
   "cell_type": "code",
   "execution_count": 3,
   "metadata": {},
   "outputs": [
    {
     "name": "stdout",
     "output_type": "stream",
     "text": [
      "(14999, 10)\n"
     ]
    },
    {
     "data": {
      "text/html": [
       "<div>\n",
       "<style>\n",
       "    .dataframe thead tr:only-child th {\n",
       "        text-align: right;\n",
       "    }\n",
       "\n",
       "    .dataframe thead th {\n",
       "        text-align: left;\n",
       "    }\n",
       "\n",
       "    .dataframe tbody tr th {\n",
       "        vertical-align: top;\n",
       "    }\n",
       "</style>\n",
       "<table border=\"1\" class=\"dataframe\">\n",
       "  <thead>\n",
       "    <tr style=\"text-align: right;\">\n",
       "      <th></th>\n",
       "      <th>satisfaction_level</th>\n",
       "      <th>last_evaluation</th>\n",
       "      <th>number_project</th>\n",
       "      <th>average_montly_hours</th>\n",
       "      <th>time_spend_company</th>\n",
       "      <th>Work_accident</th>\n",
       "      <th>left</th>\n",
       "      <th>promotion_last_5years</th>\n",
       "      <th>sales</th>\n",
       "      <th>salary</th>\n",
       "    </tr>\n",
       "  </thead>\n",
       "  <tbody>\n",
       "    <tr>\n",
       "      <th>0</th>\n",
       "      <td>0.38</td>\n",
       "      <td>0.53</td>\n",
       "      <td>2</td>\n",
       "      <td>157</td>\n",
       "      <td>3</td>\n",
       "      <td>0</td>\n",
       "      <td>1</td>\n",
       "      <td>0</td>\n",
       "      <td>sales</td>\n",
       "      <td>low</td>\n",
       "    </tr>\n",
       "    <tr>\n",
       "      <th>1</th>\n",
       "      <td>0.80</td>\n",
       "      <td>0.86</td>\n",
       "      <td>5</td>\n",
       "      <td>262</td>\n",
       "      <td>6</td>\n",
       "      <td>0</td>\n",
       "      <td>1</td>\n",
       "      <td>0</td>\n",
       "      <td>sales</td>\n",
       "      <td>medium</td>\n",
       "    </tr>\n",
       "    <tr>\n",
       "      <th>2</th>\n",
       "      <td>0.11</td>\n",
       "      <td>0.88</td>\n",
       "      <td>7</td>\n",
       "      <td>272</td>\n",
       "      <td>4</td>\n",
       "      <td>0</td>\n",
       "      <td>1</td>\n",
       "      <td>0</td>\n",
       "      <td>sales</td>\n",
       "      <td>medium</td>\n",
       "    </tr>\n",
       "    <tr>\n",
       "      <th>3</th>\n",
       "      <td>0.72</td>\n",
       "      <td>0.87</td>\n",
       "      <td>5</td>\n",
       "      <td>223</td>\n",
       "      <td>5</td>\n",
       "      <td>0</td>\n",
       "      <td>1</td>\n",
       "      <td>0</td>\n",
       "      <td>sales</td>\n",
       "      <td>low</td>\n",
       "    </tr>\n",
       "    <tr>\n",
       "      <th>4</th>\n",
       "      <td>0.37</td>\n",
       "      <td>0.52</td>\n",
       "      <td>2</td>\n",
       "      <td>159</td>\n",
       "      <td>3</td>\n",
       "      <td>0</td>\n",
       "      <td>1</td>\n",
       "      <td>0</td>\n",
       "      <td>sales</td>\n",
       "      <td>low</td>\n",
       "    </tr>\n",
       "  </tbody>\n",
       "</table>\n",
       "</div>"
      ],
      "text/plain": [
       "   satisfaction_level  last_evaluation  number_project  average_montly_hours  \\\n",
       "0                0.38             0.53               2                   157   \n",
       "1                0.80             0.86               5                   262   \n",
       "2                0.11             0.88               7                   272   \n",
       "3                0.72             0.87               5                   223   \n",
       "4                0.37             0.52               2                   159   \n",
       "\n",
       "   time_spend_company  Work_accident  left  promotion_last_5years  sales  \\\n",
       "0                   3              0     1                      0  sales   \n",
       "1                   6              0     1                      0  sales   \n",
       "2                   4              0     1                      0  sales   \n",
       "3                   5              0     1                      0  sales   \n",
       "4                   3              0     1                      0  sales   \n",
       "\n",
       "   salary  \n",
       "0     low  \n",
       "1  medium  \n",
       "2  medium  \n",
       "3     low  \n",
       "4     low  "
      ]
     },
     "execution_count": 3,
     "metadata": {},
     "output_type": "execute_result"
    }
   ],
   "source": [
    "df=pd.read_csv(\"data_hr.csv\",encoding='utf-8',sep=',')\n",
    "print(df.shape)\n",
    "df.head()"
   ]
  },
  {
   "cell_type": "markdown",
   "metadata": {},
   "source": [
    "## Diccionario de variables\n",
    "\n",
    "* Hay 14.999 registros y 10 variables, incluyendo el target. Cada registro corresponde a la información de un empleado.\n",
    "\n",
    "* SL: Satisfacción del empleado con la compañia\n",
    "* LE: last proyect evaluation\n",
    "* NP: Número de proyectos en los que el empleado a trabajado durante el tiempo en la empresa\n",
    "* AMH: Número de horas promedio trabajadas por el empleado en los últimos 12 meses \n",
    "* TSC: Tempo que ha estado en la compañia (en años)\n",
    "* WA: Accidentes en el trabajo\n",
    "* PL5Y: Promociones en los últimos 5 años\n",
    "* Sales: Cada valor representa el nombre del departamento al cual pertenece el individuo\n",
    "* Salary: Salario en rango (bajo, medio y alto)\n",
    "* left: Es la variable target y nos indica con un 1 si la persona dejó la compañia y con un 0 cuando no\n",
    "\n",
    "*Este dataset no toma en cuenta las personas que han sido despedidas, transferidas o contratatas durante el último año*\n",
    "\n",
    "* A continuación mostramos los tipos de datos de cada una de las variables"
   ]
  },
  {
   "cell_type": "code",
   "execution_count": 4,
   "metadata": {},
   "outputs": [
    {
     "data": {
      "text/plain": [
       "satisfaction_level       float64\n",
       "last_evaluation          float64\n",
       "number_project             int64\n",
       "average_montly_hours       int64\n",
       "time_spend_company         int64\n",
       "Work_accident              int64\n",
       "left                       int64\n",
       "promotion_last_5years      int64\n",
       "sales                     object\n",
       "salary                    object\n",
       "dtype: object"
      ]
     },
     "execution_count": 4,
     "metadata": {},
     "output_type": "execute_result"
    }
   ],
   "source": [
    "df.dtypes"
   ]
  },
  {
   "cell_type": "markdown",
   "metadata": {},
   "source": [
    "## Preguntas de negocio propuestas\n",
    "\n",
    "1.- Identifique cuáles son las variables que impactan en mayor medida que los mejores empleados dejen la compañia e interprete sus resultados como si tuviera que presentar el informe a un reclutador\n",
    "\n",
    "2.- Proponer la forma de utilizar estos datos para efectuar acciones personalizadas y preventivas sobre los empleados sus descrubrimientos para disminuir la fuga de talentos en la empresa\n",
    "\n",
    "\n",
    "## Preguntas técnicas propuestas\n",
    "\n",
    "1.-Explique claramente cuál fue la metodología utilizada para determinar cuáles eran las variables que más impactan en la fuga de talentos\n",
    "\n",
    "2.-Explique cómo seleccionó el modelo adecuado para resolver el problema y cómo controlo el sobreajuste en este proceso"
   ]
  },
  {
   "cell_type": "markdown",
   "metadata": {},
   "source": [
    "## EDA\n",
    "\n",
    "* Partimos el análisis haciendo un EDA (análisis exploratorio de datos) en donde comprenderemos la cantidad de valores NA's, distribución, relación con la variable target y correlaciones de cada una de las variables target\n",
    "\n",
    "* Para esto utilizaremos las siguientes herramientas:\n",
    "    * Histogramas\n",
    "    * Boxplot (individuales y por categoría de la variable target)\n",
    "    * Gráficos barra (individuales y por categoría de la variable target)\n",
    "    * Gráficos de torta\n",
    "    * Medidas de tendencia central (media, desviación estandar, mediana, percentiles)\n",
    "    * Test Chi-2 para las variables categóricas no ordinales\n",
    "    * Cálculo de la cantidad de NAs y el porcentaje de estos sobre el total de datos\n",
    "    \n",
    "    \n",
    "    \n",
    "**¿Por qué no hacer test ANOVA para las variables númericas?  porque el test Anova requiere el cumplimiento de 3 supuestos muy fuertes:**\n",
    "\n",
    "    1.-Normalidad en la distribución de la variable numérica para cada valor de la categoría\n",
    "    2.-Homogeneidad de la varianza en la variable numérica para cada categoría\n",
    "    3.-Aleatoriedad de la muestra\n",
    "\n",
    "**Para nuestras variables, es claro que estos supuestos no se cumplen y por lo tanto la aplicación del test conduciría a conclusiones equivocadas**\n",
    "<https://statistics.laerd.com/statistical-guides/one-way-anova-statistical-guide-2.php>\n"
   ]
  },
  {
   "cell_type": "code",
   "execution_count": 5,
   "metadata": {},
   "outputs": [
    {
     "data": {
      "text/html": [
       "<iframe id=\"igraph\" scrolling=\"no\" style=\"border:none;\" seamless=\"seamless\" src=\"https://plot.ly/~ilinker/191.embed\" height=\"525px\" width=\"100%\"></iframe>"
      ],
      "text/plain": [
       "<plotly.tools.PlotlyDisplay object>"
      ]
     },
     "execution_count": 5,
     "metadata": {},
     "output_type": "execute_result"
    }
   ],
   "source": [
    "value_list = []\n",
    "missing_list = []\n",
    "columns=df.columns\n",
    "for col in columns:\n",
    "    value_list.append((df[col].notnull()).sum())\n",
    "    missing_list.append((df[col].isnull()).sum())\n",
    "\n",
    "trace1 = Bar(\n",
    "    x=columns,\n",
    "    y=value_list ,\n",
    "    name='Actual Values'\n",
    ")\n",
    "trace2 = Bar(\n",
    "    x=columns,\n",
    "    y=missing_list,\n",
    "    name='Missing Values'\n",
    ")\n",
    "\n",
    "data = [trace1, trace2]\n",
    "layout = Layout(\n",
    "    barmode='stack',\n",
    "    title='Count of missing values in continuous variables'\n",
    ")\n",
    "\n",
    "fig = dict(data=data, layout=layout)\n",
    "py.iplot(fig, filename='stacked-bar')"
   ]
  },
  {
   "cell_type": "code",
   "execution_count": 6,
   "metadata": {},
   "outputs": [
    {
     "name": "stdout",
     "output_type": "stream",
     "text": [
      "Información del dataset:\n",
      " las clases del target son: Counter({0: 11428, 1: 3571})\n"
     ]
    },
    {
     "data": {
      "image/png": "[encoded data removed]",
      "text/plain": [
       "<matplotlib.figure.Figure at 0x110004898>"
      ]
     },
     "metadata": {},
     "output_type": "display_data"
    }
   ],
   "source": [
    "print('Información del dataset:'\n",
    "      '\\n las clases del target son: {}'.format(Counter(df.left)))\n",
    "plot_pie(df.left)"
   ]
  },
  {
   "cell_type": "markdown",
   "metadata": {},
   "source": [
    "### Satisfaction level"
   ]
  },
  {
   "cell_type": "code",
   "execution_count": 7,
   "metadata": {},
   "outputs": [
    {
     "name": "stdout",
     "output_type": "stream",
     "text": [
      "count    14999.000000\n",
      "mean         0.612834\n",
      "std          0.248631\n",
      "min          0.090000\n",
      "25%          0.440000\n",
      "50%          0.640000\n",
      "75%          0.820000\n",
      "max          1.000000\n",
      "Name: satisfaction_level, dtype: float64\n"
     ]
    },
    {
     "data": {
      "text/plain": [
       "<matplotlib.axes._subplots.AxesSubplot at 0x11cb40898>"
      ]
     },
     "execution_count": 7,
     "metadata": {},
     "output_type": "execute_result"
    },
    {
     "data": {
      "image/png": "[encoded data removed]",
      "text/plain": [
       "<matplotlib.figure.Figure at 0x11c4a79b0>"
      ]
     },
     "metadata": {},
     "output_type": "display_data"
    }
   ],
   "source": [
    "print(df['satisfaction_level'].describe())\n",
    "df['satisfaction_level'].hist()"
   ]
  },
  {
   "cell_type": "code",
   "execution_count": 135,
   "metadata": {},
   "outputs": [
    {
     "data": {
      "text/plain": [
       "{'boxes': [<matplotlib.lines.Line2D at 0x12665ff28>],\n",
       " 'caps': [<matplotlib.lines.Line2D at 0x1266709e8>,\n",
       "  <matplotlib.lines.Line2D at 0x126670be0>],\n",
       " 'fliers': [<matplotlib.lines.Line2D at 0x1266b8cc0>],\n",
       " 'means': [],\n",
       " 'medians': [<matplotlib.lines.Line2D at 0x1266b8470>],\n",
       " 'whiskers': [<matplotlib.lines.Line2D at 0x126668908>,\n",
       "  <matplotlib.lines.Line2D at 0x126668b38>]}"
      ]
     },
     "execution_count": 135,
     "metadata": {},
     "output_type": "execute_result"
    },
    {
     "data": {
      "image/png": "[encoded data removed]",
      "text/plain": [
       "<matplotlib.figure.Figure at 0x126558208>"
      ]
     },
     "metadata": {},
     "output_type": "display_data"
    }
   ],
   "source": [
    "plt.boxplot(df.satisfaction_level,'rs')"
   ]
  },
  {
   "cell_type": "code",
   "execution_count": 8,
   "metadata": {},
   "outputs": [
    {
     "name": "stdout",
     "output_type": "stream",
     "text": [
      "        count      mean       std   min   25%   50%   75%   max\n",
      "left                                                           \n",
      "0     11428.0  0.666810  0.217104  0.12  0.54  0.69  0.84  1.00\n",
      "1      3571.0  0.440098  0.263933  0.09  0.13  0.41  0.73  0.92\n"
     ]
    },
    {
     "data": {
      "text/plain": [
       "<matplotlib.axes._subplots.AxesSubplot at 0x11c604438>"
      ]
     },
     "execution_count": 8,
     "metadata": {},
     "output_type": "execute_result"
    },
    {
     "data": {
      "image/png": "[encoded data removed]",
      "text/plain": [
       "<matplotlib.figure.Figure at 0x11cb266a0>"
      ]
     },
     "metadata": {},
     "output_type": "display_data"
    }
   ],
   "source": [
    "print(df.groupby('left')['satisfaction_level'].describe())\n",
    "df.boxplot(column='satisfaction_level',by='left')"
   ]
  },
  {
   "cell_type": "markdown",
   "metadata": {},
   "source": [
    "### Last evaluation"
   ]
  },
  {
   "cell_type": "code",
   "execution_count": 9,
   "metadata": {},
   "outputs": [
    {
     "name": "stdout",
     "output_type": "stream",
     "text": [
      "count    14999.000000\n",
      "mean         0.716102\n",
      "std          0.171169\n",
      "min          0.360000\n",
      "25%          0.560000\n",
      "50%          0.720000\n",
      "75%          0.870000\n",
      "max          1.000000\n",
      "Name: last_evaluation, dtype: float64\n"
     ]
    },
    {
     "data": {
      "text/plain": [
       "<matplotlib.axes._subplots.AxesSubplot at 0x11c48dfd0>"
      ]
     },
     "execution_count": 9,
     "metadata": {},
     "output_type": "execute_result"
    },
    {
     "data": {
      "image/png": "[encoded data removed]",
      "text/plain": [
       "<matplotlib.figure.Figure at 0x11cb0b0f0>"
      ]
     },
     "metadata": {},
     "output_type": "display_data"
    }
   ],
   "source": [
    "print(df.last_evaluation.describe())\n",
    "df.last_evaluation.hist()"
   ]
  },
  {
   "cell_type": "code",
   "execution_count": 141,
   "metadata": {},
   "outputs": [
    {
     "data": {
      "text/plain": [
       "{'boxes': [<matplotlib.lines.Line2D at 0x126dfc8d0>],\n",
       " 'caps': [<matplotlib.lines.Line2D at 0x126e05cf8>,\n",
       "  <matplotlib.lines.Line2D at 0x126e0ebe0>],\n",
       " 'fliers': [<matplotlib.lines.Line2D at 0x126e16cc0>],\n",
       " 'means': [],\n",
       " 'medians': [<matplotlib.lines.Line2D at 0x126e0edd8>],\n",
       " 'whiskers': [<matplotlib.lines.Line2D at 0x126dfcac8>,\n",
       "  <matplotlib.lines.Line2D at 0x126e05b00>]}"
      ]
     },
     "execution_count": 141,
     "metadata": {},
     "output_type": "execute_result"
    },
    {
     "data": {
      "image/png": "[encoded data removed]",
      "text/plain": [
       "<matplotlib.figure.Figure at 0x126d257b8>"
      ]
     },
     "metadata": {},
     "output_type": "display_data"
    }
   ],
   "source": [
    "plt.boxplot(df.last_evaluation,0,'rs')"
   ]
  },
  {
   "cell_type": "code",
   "execution_count": 10,
   "metadata": {},
   "outputs": [
    {
     "name": "stdout",
     "output_type": "stream",
     "text": [
      "        count      mean       std   min   25%   50%   75%  max\n",
      "left                                                          \n",
      "0     11428.0  0.715473  0.162005  0.36  0.58  0.71  0.85  1.0\n",
      "1      3571.0  0.718113  0.197673  0.45  0.52  0.79  0.90  1.0\n"
     ]
    },
    {
     "data": {
      "text/plain": [
       "<matplotlib.axes._subplots.AxesSubplot at 0x11cdeaeb8>"
      ]
     },
     "execution_count": 10,
     "metadata": {},
     "output_type": "execute_result"
    },
    {
     "data": {
      "image/png": "[encoded data removed]",
      "text/plain": [
       "<matplotlib.figure.Figure at 0x120a41160>"
      ]
     },
     "metadata": {},
     "output_type": "display_data"
    }
   ],
   "source": [
    "print(df.groupby('left')['last_evaluation'].describe())\n",
    "df.boxplot(column='last_evaluation',by='left')"
   ]
  },
  {
   "cell_type": "markdown",
   "metadata": {},
   "source": [
    "### Sales"
   ]
  },
  {
   "cell_type": "code",
   "execution_count": 11,
   "metadata": {},
   "outputs": [
    {
     "data": {
      "text/plain": [
       "<matplotlib.axes._subplots.AxesSubplot at 0x120bb9a20>"
      ]
     },
     "execution_count": 11,
     "metadata": {},
     "output_type": "execute_result"
    },
    {
     "data": {
      "image/png": "[encoded data removed]",
      "text/plain": [
       "<matplotlib.figure.Figure at 0x11cb1b240>"
      ]
     },
     "metadata": {},
     "output_type": "display_data"
    }
   ],
   "source": [
    "sns.countplot(x='sales', data=df)"
   ]
  },
  {
   "cell_type": "code",
   "execution_count": 12,
   "metadata": {},
   "outputs": [
    {
     "name": "stdout",
     "output_type": "stream",
     "text": [
      "sales        IT     RandD  accounting        hr  management  marketing  \\\n",
      "left                                                                     \n",
      "0      0.777506  0.846252    0.734029  0.709066    0.855556   0.763403   \n",
      "1      0.222494  0.153748    0.265971  0.290934    0.144444   0.236597   \n",
      "\n",
      "sales  product_mng     sales   support  technical       All  \n",
      "left                                                         \n",
      "0         0.780488  0.755072  0.751009    0.74375  0.761917  \n",
      "1         0.219512  0.244928  0.248991    0.25625  0.238083  \n"
     ]
    },
    {
     "data": {
      "text/plain": [
       "<matplotlib.axes._subplots.AxesSubplot at 0x120e469b0>"
      ]
     },
     "execution_count": 12,
     "metadata": {},
     "output_type": "execute_result"
    },
    {
     "data": {
      "image/png": "[encoded data removed]",
      "text/plain": [
       "<matplotlib.figure.Figure at 0x11cdd1198>"
      ]
     },
     "metadata": {},
     "output_type": "display_data"
    }
   ],
   "source": [
    "print(pd.crosstab(df.left,df.sales, margins=True,normalize='columns'))\n",
    "sns.countplot(x='left', hue='sales', data=df, palette='Set2')"
   ]
  },
  {
   "cell_type": "code",
   "execution_count": 13,
   "metadata": {},
   "outputs": [
    {
     "data": {
      "text/html": [
       "<div>\n",
       "<style>\n",
       "    .dataframe thead tr:only-child th {\n",
       "        text-align: right;\n",
       "    }\n",
       "\n",
       "    .dataframe thead th {\n",
       "        text-align: left;\n",
       "    }\n",
       "\n",
       "    .dataframe tbody tr th {\n",
       "        vertical-align: top;\n",
       "    }\n",
       "</style>\n",
       "<table border=\"1\" class=\"dataframe\">\n",
       "  <thead>\n",
       "    <tr style=\"text-align: right;\">\n",
       "      <th>sales</th>\n",
       "      <th>IT</th>\n",
       "      <th>RandD</th>\n",
       "      <th>accounting</th>\n",
       "      <th>hr</th>\n",
       "      <th>management</th>\n",
       "      <th>marketing</th>\n",
       "      <th>product_mng</th>\n",
       "      <th>sales</th>\n",
       "      <th>support</th>\n",
       "      <th>technical</th>\n",
       "      <th>All</th>\n",
       "    </tr>\n",
       "    <tr>\n",
       "      <th>left</th>\n",
       "      <th></th>\n",
       "      <th></th>\n",
       "      <th></th>\n",
       "      <th></th>\n",
       "      <th></th>\n",
       "      <th></th>\n",
       "      <th></th>\n",
       "      <th></th>\n",
       "      <th></th>\n",
       "      <th></th>\n",
       "      <th></th>\n",
       "    </tr>\n",
       "  </thead>\n",
       "  <tbody>\n",
       "    <tr>\n",
       "      <th>0</th>\n",
       "      <td>0.777506</td>\n",
       "      <td>0.846252</td>\n",
       "      <td>0.734029</td>\n",
       "      <td>0.709066</td>\n",
       "      <td>0.855556</td>\n",
       "      <td>0.763403</td>\n",
       "      <td>0.780488</td>\n",
       "      <td>0.755072</td>\n",
       "      <td>0.751009</td>\n",
       "      <td>0.74375</td>\n",
       "      <td>0.761917</td>\n",
       "    </tr>\n",
       "    <tr>\n",
       "      <th>1</th>\n",
       "      <td>0.222494</td>\n",
       "      <td>0.153748</td>\n",
       "      <td>0.265971</td>\n",
       "      <td>0.290934</td>\n",
       "      <td>0.144444</td>\n",
       "      <td>0.236597</td>\n",
       "      <td>0.219512</td>\n",
       "      <td>0.244928</td>\n",
       "      <td>0.248991</td>\n",
       "      <td>0.25625</td>\n",
       "      <td>0.238083</td>\n",
       "    </tr>\n",
       "  </tbody>\n",
       "</table>\n",
       "</div>"
      ],
      "text/plain": [
       "sales        IT     RandD  accounting        hr  management  marketing  \\\n",
       "left                                                                     \n",
       "0      0.777506  0.846252    0.734029  0.709066    0.855556   0.763403   \n",
       "1      0.222494  0.153748    0.265971  0.290934    0.144444   0.236597   \n",
       "\n",
       "sales  product_mng     sales   support  technical       All  \n",
       "left                                                         \n",
       "0         0.780488  0.755072  0.751009    0.74375  0.761917  \n",
       "1         0.219512  0.244928  0.248991    0.25625  0.238083  "
      ]
     },
     "execution_count": 13,
     "metadata": {},
     "output_type": "execute_result"
    }
   ],
   "source": [
    "pd.crosstab(df.left,df.sales, margins=True,normalize='columns')"
   ]
  },
  {
   "cell_type": "code",
   "execution_count": 14,
   "metadata": {
    "scrolled": true
   },
   "outputs": [
    {
     "name": "stdout",
     "output_type": "stream",
     "text": [
      "Se rechaza H0, no hay evidencia para decir que los valores son independientes\n",
      " y el p-valor es: 0.0\n",
      "los valores esperados son: sales          IT       RandD  accounting          hr  management   marketing  \\\n",
      "left                                                                            \n",
      "0      934.872725  599.629042  584.390693  563.057004  480.008001  653.725182   \n",
      "1      292.127275  187.370958  182.609307  175.942996  149.991999  204.274818   \n",
      "\n",
      "sales  product_mng        sales      support    technical  \n",
      "left                                                       \n",
      "0        687.24955  3154.338289  1698.314021  2072.415494  \n",
      "1        214.75045   985.661711   530.685979   647.584506  \n"
     ]
    }
   ],
   "source": [
    "chi2_test(var1=df.left,var2=df.sales,alpha=0.99)"
   ]
  },
  {
   "cell_type": "markdown",
   "metadata": {},
   "source": [
    "### Salary"
   ]
  },
  {
   "cell_type": "code",
   "execution_count": 15,
   "metadata": {},
   "outputs": [
    {
     "data": {
      "text/html": [
       "<div>\n",
       "<style>\n",
       "    .dataframe thead tr:only-child th {\n",
       "        text-align: right;\n",
       "    }\n",
       "\n",
       "    .dataframe thead th {\n",
       "        text-align: left;\n",
       "    }\n",
       "\n",
       "    .dataframe tbody tr th {\n",
       "        vertical-align: top;\n",
       "    }\n",
       "</style>\n",
       "<table border=\"1\" class=\"dataframe\">\n",
       "  <thead>\n",
       "    <tr style=\"text-align: right;\">\n",
       "      <th>salary</th>\n",
       "      <th>high</th>\n",
       "      <th>low</th>\n",
       "      <th>medium</th>\n",
       "      <th>All</th>\n",
       "    </tr>\n",
       "    <tr>\n",
       "      <th>left</th>\n",
       "      <th></th>\n",
       "      <th></th>\n",
       "      <th></th>\n",
       "      <th></th>\n",
       "    </tr>\n",
       "  </thead>\n",
       "  <tbody>\n",
       "    <tr>\n",
       "      <th>0</th>\n",
       "      <td>0.933711</td>\n",
       "      <td>0.703116</td>\n",
       "      <td>0.795687</td>\n",
       "      <td>0.761917</td>\n",
       "    </tr>\n",
       "    <tr>\n",
       "      <th>1</th>\n",
       "      <td>0.066289</td>\n",
       "      <td>0.296884</td>\n",
       "      <td>0.204313</td>\n",
       "      <td>0.238083</td>\n",
       "    </tr>\n",
       "  </tbody>\n",
       "</table>\n",
       "</div>"
      ],
      "text/plain": [
       "salary      high       low    medium       All\n",
       "left                                          \n",
       "0       0.933711  0.703116  0.795687  0.761917\n",
       "1       0.066289  0.296884  0.204313  0.238083"
      ]
     },
     "execution_count": 15,
     "metadata": {},
     "output_type": "execute_result"
    }
   ],
   "source": [
    "pd.crosstab(df.left,df.salary, margins=True,normalize='columns')"
   ]
  },
  {
   "cell_type": "code",
   "execution_count": 16,
   "metadata": {},
   "outputs": [
    {
     "name": "stdout",
     "output_type": "stream",
     "text": [
      "Se rechaza H0, no hay evidencia para decir que los valores son independientes\n",
      " y el p-valor es: 0.0\n",
      "los valores esperados son: salary        high          low       medium\n",
      "left                                        \n",
      "0       942.491899  5574.188146  4911.319955\n",
      "1       294.508101  1741.811854  1534.680045\n"
     ]
    }
   ],
   "source": [
    "chi2_test(var1=df.left,var2=df.salary)"
   ]
  },
  {
   "cell_type": "markdown",
   "metadata": {},
   "source": [
    "### Número de proyectos"
   ]
  },
  {
   "cell_type": "code",
   "execution_count": 146,
   "metadata": {},
   "outputs": [
    {
     "name": "stdout",
     "output_type": "stream",
     "text": [
      "count    14999.000000\n",
      "mean         3.803054\n",
      "std          1.232592\n",
      "min          2.000000\n",
      "25%          3.000000\n",
      "50%          4.000000\n",
      "75%          5.000000\n",
      "max          7.000000\n",
      "Name: number_project, dtype: float64\n"
     ]
    },
    {
     "data": {
      "text/plain": [
       "{'boxes': [<matplotlib.lines.Line2D at 0x1274460f0>],\n",
       " 'caps': [<matplotlib.lines.Line2D at 0x12744db70>,\n",
       "  <matplotlib.lines.Line2D at 0x12744dd68>],\n",
       " 'fliers': [<matplotlib.lines.Line2D at 0x127455e48>],\n",
       " 'means': [],\n",
       " 'medians': [<matplotlib.lines.Line2D at 0x1274555f8>],\n",
       " 'whiskers': [<matplotlib.lines.Line2D at 0x127446a90>,\n",
       "  <matplotlib.lines.Line2D at 0x127446cc0>]}"
      ]
     },
     "execution_count": 146,
     "metadata": {},
     "output_type": "execute_result"
    },
    {
     "data": {
      "image/png": "[encoded data removed]",
      "text/plain": [
       "<matplotlib.figure.Figure at 0x12736c940>"
      ]
     },
     "metadata": {},
     "output_type": "display_data"
    }
   ],
   "source": [
    "print(df.number_project.describe())\n",
    "plt.boxplot(df.number_project,0,'rs')"
   ]
  },
  {
   "cell_type": "code",
   "execution_count": 17,
   "metadata": {
    "scrolled": true
   },
   "outputs": [
    {
     "name": "stdout",
     "output_type": "stream",
     "text": [
      "number_project         2         3       4         5         6    7       All\n",
      "left                                                                         \n",
      "0               0.343802  0.982244  0.9063  0.778341  0.442078  0.0  0.761917\n",
      "1               0.656198  0.017756  0.0937  0.221659  0.557922  1.0  0.238083\n"
     ]
    },
    {
     "data": {
      "text/plain": [
       "<matplotlib.axes._subplots.AxesSubplot at 0x1210075c0>"
      ]
     },
     "execution_count": 17,
     "metadata": {},
     "output_type": "execute_result"
    },
    {
     "data": {
      "image/png": "[encoded data removed]",
      "text/plain": [
       "<matplotlib.figure.Figure at 0x12103b0b8>"
      ]
     },
     "metadata": {},
     "output_type": "display_data"
    }
   ],
   "source": [
    "print(pd.crosstab(df.left,df.number_project, margins=True,normalize='columns'))\n",
    "sns.countplot(x='left', hue='number_project', data=df, palette='Set2')"
   ]
  },
  {
   "cell_type": "code",
   "execution_count": 18,
   "metadata": {},
   "outputs": [
    {
     "name": "stdout",
     "output_type": "stream",
     "text": [
      "Se rechaza H0, no hay evidencia para decir que los valores son independientes\n",
      " y el p-valor es: 0.0\n",
      "los valores esperados son: number_project            2            3            4           5           6  \\\n",
      "left                                                                            \n",
      "0               1819.458897  3089.575305  3325.769718  2103.65411  894.491099   \n",
      "1                568.541103   965.424695  1039.230282   657.34589  279.508901   \n",
      "\n",
      "number_project          7  \n",
      "left                       \n",
      "0               195.05087  \n",
      "1                60.94913  \n"
     ]
    }
   ],
   "source": [
    "chi2_test(var1=df.left,var2=df.number_project,alpha=0.99)"
   ]
  },
  {
   "cell_type": "markdown",
   "metadata": {},
   "source": [
    "### Número de horas promedio trabajadas en los últimos 12 meses"
   ]
  },
  {
   "cell_type": "code",
   "execution_count": 19,
   "metadata": {},
   "outputs": [
    {
     "name": "stdout",
     "output_type": "stream",
     "text": [
      "count    14999.000000\n",
      "mean       201.050337\n",
      "std         49.943099\n",
      "min         96.000000\n",
      "25%        156.000000\n",
      "50%        200.000000\n",
      "75%        245.000000\n",
      "max        310.000000\n",
      "Name: average_montly_hours, dtype: float64\n"
     ]
    },
    {
     "data": {
      "text/plain": [
       "<matplotlib.axes._subplots.AxesSubplot at 0x1212dcdd8>"
      ]
     },
     "execution_count": 19,
     "metadata": {},
     "output_type": "execute_result"
    },
    {
     "data": {
      "image/png": "[encoded data removed]",
      "text/plain": [
       "<matplotlib.figure.Figure at 0x120e31e48>"
      ]
     },
     "metadata": {},
     "output_type": "display_data"
    }
   ],
   "source": [
    "print(df.average_montly_hours.describe())\n",
    "df.average_montly_hours.hist()"
   ]
  },
  {
   "cell_type": "code",
   "execution_count": 140,
   "metadata": {},
   "outputs": [
    {
     "data": {
      "text/plain": [
       "{'boxes': [<matplotlib.lines.Line2D at 0x126cb4668>],\n",
       " 'caps': [<matplotlib.lines.Line2D at 0x126cffa90>,\n",
       "  <matplotlib.lines.Line2D at 0x126d06978>],\n",
       " 'fliers': [<matplotlib.lines.Line2D at 0x126d0ea58>],\n",
       " 'means': [],\n",
       " 'medians': [<matplotlib.lines.Line2D at 0x126d06b70>],\n",
       " 'whiskers': [<matplotlib.lines.Line2D at 0x126cb4f60>,\n",
       "  <matplotlib.lines.Line2D at 0x126cff898>]}"
      ]
     },
     "execution_count": 140,
     "metadata": {},
     "output_type": "execute_result"
    },
    {
     "data": {
      "image/png": "[encoded data removed]",
      "text/plain": [
       "<matplotlib.figure.Figure at 0x126babd30>"
      ]
     },
     "metadata": {},
     "output_type": "display_data"
    }
   ],
   "source": [
    "plt.boxplot(df.average_montly_hours,0,'rs')"
   ]
  },
  {
   "cell_type": "code",
   "execution_count": 20,
   "metadata": {},
   "outputs": [
    {
     "name": "stdout",
     "output_type": "stream",
     "text": [
      "        count        mean        std    min    25%    50%    75%    max\n",
      "left                                                                   \n",
      "0     11428.0  199.060203  45.682731   96.0  162.0  198.0  238.0  287.0\n",
      "1      3571.0  207.419210  61.202825  126.0  146.0  224.0  262.0  310.0\n"
     ]
    },
    {
     "data": {
      "text/plain": [
       "<matplotlib.axes._subplots.AxesSubplot at 0x1212a4630>"
      ]
     },
     "execution_count": 20,
     "metadata": {},
     "output_type": "execute_result"
    },
    {
     "data": {
      "image/png": "[encoded data removed]",
      "text/plain": [
       "<matplotlib.figure.Figure at 0x11c6ebc50>"
      ]
     },
     "metadata": {},
     "output_type": "display_data"
    }
   ],
   "source": [
    "print(df.groupby('left')['average_montly_hours'].describe())\n",
    "df.boxplot(column='average_montly_hours',by='left')"
   ]
  },
  {
   "cell_type": "code",
   "execution_count": 21,
   "metadata": {},
   "outputs": [
    {
     "name": "stdout",
     "output_type": "stream",
     "text": [
      "count    14999.000000\n",
      "mean         3.498233\n",
      "std          1.460136\n",
      "min          2.000000\n",
      "25%          3.000000\n",
      "50%          3.000000\n",
      "75%          4.000000\n",
      "max         10.000000\n",
      "Name: time_spend_company, dtype: float64\n"
     ]
    },
    {
     "data": {
      "text/plain": [
       "<matplotlib.axes._subplots.AxesSubplot at 0x1211fd208>"
      ]
     },
     "execution_count": 21,
     "metadata": {},
     "output_type": "execute_result"
    },
    {
     "data": {
      "image/png": "[encoded data removed]",
      "text/plain": [
       "<matplotlib.figure.Figure at 0x11c6f1780>"
      ]
     },
     "metadata": {},
     "output_type": "display_data"
    }
   ],
   "source": [
    "print(df.time_spend_company.describe())\n",
    "df.time_spend_company.hist()"
   ]
  },
  {
   "cell_type": "code",
   "execution_count": 145,
   "metadata": {},
   "outputs": [
    {
     "data": {
      "text/plain": [
       "{'boxes': [<matplotlib.lines.Line2D at 0x1272f6860>],\n",
       " 'caps': [<matplotlib.lines.Line2D at 0x127300c88>,\n",
       "  <matplotlib.lines.Line2D at 0x127345b70>],\n",
       " 'fliers': [<matplotlib.lines.Line2D at 0x12734fc50>],\n",
       " 'means': [],\n",
       " 'medians': [<matplotlib.lines.Line2D at 0x127345d68>],\n",
       " 'whiskers': [<matplotlib.lines.Line2D at 0x1272f6a58>,\n",
       "  <matplotlib.lines.Line2D at 0x127300a90>]}"
      ]
     },
     "execution_count": 145,
     "metadata": {},
     "output_type": "execute_result"
    },
    {
     "data": {
      "image/png": "[encoded data removed]",
      "text/plain": [
       "<matplotlib.figure.Figure at 0x1271e4518>"
      ]
     },
     "metadata": {},
     "output_type": "display_data"
    }
   ],
   "source": [
    "plt.boxplot(df.time_spend_company,0,'rs')"
   ]
  },
  {
   "cell_type": "code",
   "execution_count": 22,
   "metadata": {
    "scrolled": true
   },
   "outputs": [
    {
     "name": "stdout",
     "output_type": "stream",
     "text": [
      "        count      mean       std  min  25%  50%  75%   max\n",
      "left                                                       \n",
      "0     11428.0  3.380032  1.562348  2.0  2.0  3.0  4.0  10.0\n",
      "1      3571.0  3.876505  0.977698  2.0  3.0  4.0  5.0   6.0\n"
     ]
    },
    {
     "data": {
      "text/plain": [
       "<matplotlib.axes._subplots.AxesSubplot at 0x11c8c7c18>"
      ]
     },
     "execution_count": 22,
     "metadata": {},
     "output_type": "execute_result"
    },
    {
     "data": {
      "image/png": "[encoded data removed]",
      "text/plain": [
       "<matplotlib.figure.Figure at 0x11c907b00>"
      ]
     },
     "metadata": {},
     "output_type": "display_data"
    }
   ],
   "source": [
    "print(df.groupby('left')['time_spend_company'].describe())\n",
    "df.boxplot(column='time_spend_company',by='left')"
   ]
  },
  {
   "cell_type": "markdown",
   "metadata": {},
   "source": [
    "### Accidentes en el trabajo"
   ]
  },
  {
   "cell_type": "code",
   "execution_count": 23,
   "metadata": {},
   "outputs": [
    {
     "name": "stdout",
     "output_type": "stream",
     "text": [
      "Work_accident        0         1       All\n",
      "left                                      \n",
      "0              0.73484  0.922084  0.761917\n",
      "1              0.26516  0.077916  0.238083\n"
     ]
    },
    {
     "data": {
      "text/plain": [
       "<matplotlib.axes._subplots.AxesSubplot at 0x12143a080>"
      ]
     },
     "execution_count": 23,
     "metadata": {},
     "output_type": "execute_result"
    },
    {
     "data": {
      "image/png": "[encoded data removed]",
      "text/plain": [
       "<matplotlib.figure.Figure at 0x1214577f0>"
      ]
     },
     "metadata": {},
     "output_type": "display_data"
    }
   ],
   "source": [
    "print(pd.crosstab(df.left,df.Work_accident, margins=True,normalize='columns'))\n",
    "sns.countplot(x='left', hue='Work_accident', data=df, palette='Set2')"
   ]
  },
  {
   "cell_type": "code",
   "execution_count": 24,
   "metadata": {},
   "outputs": [
    {
     "name": "stdout",
     "output_type": "stream",
     "text": [
      "Se rechaza H0, no hay evidencia para decir que los valores son independientes\n",
      " y el p-valor es: 0.0\n",
      "los valores esperados son: Work_accident            0            1\n",
      "left                                   \n",
      "0              9775.401027  1652.598973\n",
      "1              3054.598973   516.401027\n"
     ]
    }
   ],
   "source": [
    "chi2_test(df.left,df.Work_accident,alpha=0.99)"
   ]
  },
  {
   "cell_type": "markdown",
   "metadata": {},
   "source": [
    "### Promotion last 5 years"
   ]
  },
  {
   "cell_type": "code",
   "execution_count": 25,
   "metadata": {},
   "outputs": [
    {
     "name": "stdout",
     "output_type": "stream",
     "text": [
      "promotion_last_5years         0         1       All\n",
      "left                                               \n",
      "0                      0.758038  0.940439  0.761917\n",
      "1                      0.241962  0.059561  0.238083\n"
     ]
    },
    {
     "data": {
      "text/plain": [
       "<matplotlib.axes._subplots.AxesSubplot at 0x12157d780>"
      ]
     },
     "execution_count": 25,
     "metadata": {},
     "output_type": "execute_result"
    },
    {
     "data": {
      "image/png": "[encoded data removed]",
      "text/plain": [
       "<matplotlib.figure.Figure at 0x12138bcc0>"
      ]
     },
     "metadata": {},
     "output_type": "display_data"
    }
   ],
   "source": [
    "print(pd.crosstab(df.left,df.promotion_last_5years, margins=True,normalize='columns'))\n",
    "sns.countplot(x='left', hue='promotion_last_5years', data=df, palette='Set2')"
   ]
  },
  {
   "cell_type": "code",
   "execution_count": 26,
   "metadata": {},
   "outputs": [
    {
     "name": "stdout",
     "output_type": "stream",
     "text": [
      "Se rechaza H0, no hay evidencia para decir que los valores son independientes\n",
      " y el p-valor es: 0.0\n",
      "los valores esperados son: promotion_last_5years            0          1\n",
      "left                                         \n",
      "0                      11184.94833  243.05167\n",
      "1                       3495.05167   75.94833\n"
     ]
    }
   ],
   "source": [
    "chi2_test(var1=df.left,var2=df.promotion_last_5years,alpha=0.99)"
   ]
  },
  {
   "cell_type": "markdown",
   "metadata": {},
   "source": [
    "### Transformación de variables\n",
    "\n",
    "* Aplicamos dos transformaciones de variables a las dos variables categóricas que tenemos:\n",
    "\n",
    "    * Como la variable salario es una variable categórica ordinal, es posible transformarla a número sin perder la \n",
    "    naturaleza de lo que representan las categorías bajo, medio, alto.\n",
    "    \n",
    "    * Como la variable sales es una variable categórica no ordinal, transformamos todas sus variables en variables \n",
    "    dummy, con el objetivo de identificar si es que existe alguna relación entre estar en algún departamento en \n",
    "    particular y que la probabilidad de fuga sea más alta o baja\n",
    "    \n",
    "\n",
    "* Es importante notar que la variable salario también la pudimos haber transformado en variable dummy para medir el efecto particular de tener un tipo de salario en particular. Sin embargo, el supuesto detrás de no hacerlo es que pensamos que mantener el ordenamiento de sus categorías aporta en la predicción de fuga"
   ]
  },
  {
   "cell_type": "code",
   "execution_count": 27,
   "metadata": {
    "collapsed": true
   },
   "outputs": [],
   "source": [
    "df.salary = df.salary.astype('category').cat.reorder_categories(['low', 'medium', 'high'])\n",
    "salary_numeric = pd.DataFrame(df.salary.cat.codes)\n",
    "salary_numeric.columns = ['salary']\n",
    "df = df.drop(['salary'], 1).join(salary_numeric)"
   ]
  },
  {
   "cell_type": "code",
   "execution_count": 28,
   "metadata": {
    "collapsed": true
   },
   "outputs": [],
   "source": [
    "sales_dummies = pd.get_dummies(df.sales)\n",
    "df = df.drop(['sales'], 1).join(sales_dummies)"
   ]
  },
  {
   "cell_type": "markdown",
   "metadata": {},
   "source": [
    "### Aplicamos el test chi2 sobre las variables categóricas no ordinales\n",
    "\n",
    "* Las variables categóricas en el dataset son:\n",
    "\n",
    "    * Sales (no ordinal)\n",
    "    * promotion_last_5years (binaria)\n",
    "    * Work_accident (binaria)\n",
    "    * salary (ordinal)\n",
    "    \n",
    "    \n",
    "* Se aplica un test no paramétrico como el test chi2 para determinar si las categorías de la variable sales son independientes con respecto al target. Luego del cual confirmamos que solo las variables management,hr y RandD no presentan independencia y el resto de las categoría de sales si\n",
    "\n",
    "*<http://scikit-learn.org/stable/modules/generated/sklearn.feature_selection.chi2.html#sklearn.feature_selection.chi2>*\n",
    "\n",
    "\n",
    "* En consecuencia, todas las categorías que son independientes con el target en este test son candidatas a ser eliminadas durante la selección de variables ya que no presentan significancia de forma individual. Dado que puede presentar significancia conjunta (en interacción con otras variables) confirmaremos su eliminación utilizando RFE con modelos de SVC lineal, Random Forest y Gradient Boosting"
   ]
  },
  {
   "cell_type": "code",
   "execution_count": 63,
   "metadata": {},
   "outputs": [
    {
     "data": {
      "text/plain": [
       "(array([  3.04516067e+01,   1.13793626e+01,   3.08564507e+01,\n",
       "          1.71479003e+00,   1.64371371e+00,   1.04417630e-02,\n",
       "          1.06932924e+00,   3.28865914e+00,   1.46206955e+00,\n",
       "          4.94905082e+00]),\n",
       " array([  3.42299713e-08,   7.42645951e-04,   2.77837057e-08,\n",
       "          1.90365066e-01,   1.99816694e-01,   9.18609877e-01,\n",
       "          3.01097003e-01,   6.97599693e-02,   2.26601121e-01,\n",
       "          2.61049970e-02]))"
      ]
     },
     "execution_count": 63,
     "metadata": {},
     "output_type": "execute_result"
    }
   ],
   "source": [
    "chi2(y=df.left,X=df[['management','hr','RandD','product_mng','IT','marketing','sales','accounting',\n",
    "                     'support','technical']])"
   ]
  },
  {
   "cell_type": "markdown",
   "metadata": {},
   "source": [
    "### Aplicamos el test chi2 sobre las variables dummy y categóricas ordinales\n",
    "\n",
    "* Los resultados nos dicen que para las 3 variables evaluadas no es posible establecer independencia con el target, por lo cual son candidatas a ser seleccionadas"
   ]
  },
  {
   "cell_type": "code",
   "execution_count": 55,
   "metadata": {},
   "outputs": [
    {
     "data": {
      "text/plain": [
       "(array([  56.04486528,  306.73771049,  255.27671404]),\n",
       " array([  7.08359651e-14,   1.12177164e-68,   1.83702643e-57]))"
      ]
     },
     "execution_count": 55,
     "metadata": {},
     "output_type": "execute_result"
    }
   ],
   "source": [
    "chi2(y=df.left,X=df[['promotion_last_5years','Work_accident','salary']])"
   ]
  },
  {
   "cell_type": "code",
   "execution_count": 120,
   "metadata": {},
   "outputs": [],
   "source": [
    "aux=df.copy()\n",
    "X = df.drop(['left'], 1).copy()\n",
    "y = df.left"
   ]
  },
  {
   "cell_type": "markdown",
   "metadata": {},
   "source": [
    "### Estandarización de valores\n",
    "\n",
    "* Utilizamos la función StandarScaler() de la librería SkLearn para aplicar el método de estandarización de valores para todas las variables numéricas que tenemos en el dataset (lo cual no incluye a los booleanos que están como 1 o 0) *<http://scikit-learn.org/stable/modules/preprocessing.html#preprocessing-scaler>*\n",
    "\n",
    "\n",
    "* Con un fin explicativo se muestra la variable de horas mensuales promedio trabajada en los últimos 12 meses con y sin escalamiento, en donde podemos ver que la transformación no genera cambios en la distribución de la variable sino que solo modifica los rangos de valores en los que se mueve estableciendo una desviación estandar unitaria (1) y centra la media en 0\n",
    "\n",
    "\n",
    "* También notamos, que por la misma razón, no cambia la relación lineal entre las variables cuando aplicamos la correlación de pearson frente a otras variables numéricas y por lo tanto obtenemos exactamente los mismos valores para esta métrica\n",
    "\n",
    "\n",
    "* Ocupamos la estandarización ya que no tenemos presencia importante de outliers en las 5 variables a las cuales aplicaremos la función (revisar boxplots individuales). En caso de que así fuera, se recomienda utilizar otros tipos de escalamiento, en particular el RobusScaler y QuantilScaler son los más usados en esos casos\n",
    "\n",
    "\n",
    "* Para comprender las diferencias entre los distintos tipos de escalamiento utilizables con SkLearn se recomienda este link:  *<http://scikit-learn.org/stable/auto_examples/preprocessing/plot_all_scaling.html>*"
   ]
  },
  {
   "cell_type": "code",
   "execution_count": 121,
   "metadata": {},
   "outputs": [],
   "source": [
    "sc = StandardScaler()\n",
    "aux=X.loc[:,['satisfaction_level', 'last_evaluation','number_project','average_montly_hours','time_spend_company']]\n",
    "sc.fit(aux)\n",
    "X_std = sc.transform(aux)\n",
    "X.loc[:,['satisfaction_level', 'last_evaluation','number_project','average_montly_hours','time_spend_company']]=X_std"
   ]
  },
  {
   "cell_type": "code",
   "execution_count": 147,
   "metadata": {},
   "outputs": [
    {
     "data": {
      "text/plain": [
       "<matplotlib.axes._subplots.AxesSubplot at 0x127317f28>"
      ]
     },
     "execution_count": 147,
     "metadata": {},
     "output_type": "execute_result"
    },
    {
     "data": {
      "image/png": "[encoded data removed]",
      "text/plain": [
       "<matplotlib.figure.Figure at 0x1274b57f0>"
      ]
     },
     "metadata": {},
     "output_type": "display_data"
    }
   ],
   "source": [
    "aux.average_montly_hours.hist()"
   ]
  },
  {
   "cell_type": "code",
   "execution_count": 149,
   "metadata": {},
   "outputs": [
    {
     "name": "stdout",
     "output_type": "stream",
     "text": [
      "count    1.499900e+04\n",
      "mean    -4.978720e-16\n",
      "std      1.000033e+00\n",
      "min     -2.103471e+00\n",
      "25%     -9.020633e-01\n",
      "50%     -2.103137e-02\n",
      "75%      8.800240e-01\n",
      "max      2.181549e+00\n",
      "Name: average_montly_hours, dtype: float64\n"
     ]
    },
    {
     "data": {
      "text/plain": [
       "<matplotlib.axes._subplots.AxesSubplot at 0x127719710>"
      ]
     },
     "execution_count": 149,
     "metadata": {},
     "output_type": "execute_result"
    },
    {
     "data": {
      "image/png": "[encoded data removed]",
      "text/plain": [
       "<matplotlib.figure.Figure at 0x12770ae10>"
      ]
     },
     "metadata": {},
     "output_type": "display_data"
    }
   ],
   "source": [
    "print(X.average_montly_hours.describe())\n",
    "X.average_montly_hours.hist()"
   ]
  },
  {
   "cell_type": "code",
   "execution_count": 129,
   "metadata": {},
   "outputs": [
    {
     "data": {
      "text/plain": [
       "<seaborn.axisgrid.JointGrid at 0x1257bd208>"
      ]
     },
     "execution_count": 129,
     "metadata": {},
     "output_type": "execute_result"
    },
    {
     "data": {
      "image/png": "[encoded data removed]",
      "text/plain": [
       "<matplotlib.figure.Figure at 0x1257bd2e8>"
      ]
     },
     "metadata": {},
     "output_type": "display_data"
    }
   ],
   "source": [
    "sns.jointplot(aux.last_evaluation,aux.average_montly_hours)"
   ]
  },
  {
   "cell_type": "code",
   "execution_count": 131,
   "metadata": {},
   "outputs": [
    {
     "data": {
      "text/plain": [
       "<seaborn.axisgrid.JointGrid at 0x125870a58>"
      ]
     },
     "execution_count": 131,
     "metadata": {},
     "output_type": "execute_result"
    },
    {
     "data": {
      "image/png": "[encoded data removed]",
      "text/plain": [
       "<matplotlib.figure.Figure at 0x1258803c8>"
      ]
     },
     "metadata": {},
     "output_type": "display_data"
    }
   ],
   "source": [
    "sns.jointplot(X.last_evaluation,X.average_montly_hours)"
   ]
  },
  {
   "cell_type": "code",
   "execution_count": 150,
   "metadata": {},
   "outputs": [
    {
     "data": {
      "text/html": [
       "<div>\n",
       "<style>\n",
       "    .dataframe thead tr:only-child th {\n",
       "        text-align: right;\n",
       "    }\n",
       "\n",
       "    .dataframe thead th {\n",
       "        text-align: left;\n",
       "    }\n",
       "\n",
       "    .dataframe tbody tr th {\n",
       "        vertical-align: top;\n",
       "    }\n",
       "</style>\n",
       "<table border=\"1\" class=\"dataframe\">\n",
       "  <thead>\n",
       "    <tr style=\"text-align: right;\">\n",
       "      <th></th>\n",
       "      <th>satisfaction_level</th>\n",
       "      <th>last_evaluation</th>\n",
       "      <th>number_project</th>\n",
       "      <th>average_montly_hours</th>\n",
       "      <th>time_spend_company</th>\n",
       "    </tr>\n",
       "  </thead>\n",
       "  <tbody>\n",
       "    <tr>\n",
       "      <th>satisfaction_level</th>\n",
       "      <td>1.000000</td>\n",
       "      <td>0.105021</td>\n",
       "      <td>-0.142970</td>\n",
       "      <td>-0.020048</td>\n",
       "      <td>-0.100866</td>\n",
       "    </tr>\n",
       "    <tr>\n",
       "      <th>last_evaluation</th>\n",
       "      <td>0.105021</td>\n",
       "      <td>1.000000</td>\n",
       "      <td>0.349333</td>\n",
       "      <td>0.339742</td>\n",
       "      <td>0.131591</td>\n",
       "    </tr>\n",
       "    <tr>\n",
       "      <th>number_project</th>\n",
       "      <td>-0.142970</td>\n",
       "      <td>0.349333</td>\n",
       "      <td>1.000000</td>\n",
       "      <td>0.417211</td>\n",
       "      <td>0.196786</td>\n",
       "    </tr>\n",
       "    <tr>\n",
       "      <th>average_montly_hours</th>\n",
       "      <td>-0.020048</td>\n",
       "      <td>0.339742</td>\n",
       "      <td>0.417211</td>\n",
       "      <td>1.000000</td>\n",
       "      <td>0.127755</td>\n",
       "    </tr>\n",
       "    <tr>\n",
       "      <th>time_spend_company</th>\n",
       "      <td>-0.100866</td>\n",
       "      <td>0.131591</td>\n",
       "      <td>0.196786</td>\n",
       "      <td>0.127755</td>\n",
       "      <td>1.000000</td>\n",
       "    </tr>\n",
       "  </tbody>\n",
       "</table>\n",
       "</div>"
      ],
      "text/plain": [
       "                      satisfaction_level  last_evaluation  number_project  \\\n",
       "satisfaction_level              1.000000         0.105021       -0.142970   \n",
       "last_evaluation                 0.105021         1.000000        0.349333   \n",
       "number_project                 -0.142970         0.349333        1.000000   \n",
       "average_montly_hours           -0.020048         0.339742        0.417211   \n",
       "time_spend_company             -0.100866         0.131591        0.196786   \n",
       "\n",
       "                      average_montly_hours  time_spend_company  \n",
       "satisfaction_level               -0.020048           -0.100866  \n",
       "last_evaluation                   0.339742            0.131591  \n",
       "number_project                    0.417211            0.196786  \n",
       "average_montly_hours              1.000000            0.127755  \n",
       "time_spend_company                0.127755            1.000000  "
      ]
     },
     "execution_count": 150,
     "metadata": {},
     "output_type": "execute_result"
    }
   ],
   "source": [
    "aux.corr()"
   ]
  },
  {
   "cell_type": "code",
   "execution_count": 122,
   "metadata": {},
   "outputs": [
    {
     "data": {
      "text/html": [
       "<div>\n",
       "<style>\n",
       "    .dataframe thead tr:only-child th {\n",
       "        text-align: right;\n",
       "    }\n",
       "\n",
       "    .dataframe thead th {\n",
       "        text-align: left;\n",
       "    }\n",
       "\n",
       "    .dataframe tbody tr th {\n",
       "        vertical-align: top;\n",
       "    }\n",
       "</style>\n",
       "<table border=\"1\" class=\"dataframe\">\n",
       "  <thead>\n",
       "    <tr style=\"text-align: right;\">\n",
       "      <th></th>\n",
       "      <th>satisfaction_level</th>\n",
       "      <th>last_evaluation</th>\n",
       "      <th>number_project</th>\n",
       "      <th>average_montly_hours</th>\n",
       "      <th>time_spend_company</th>\n",
       "    </tr>\n",
       "  </thead>\n",
       "  <tbody>\n",
       "    <tr>\n",
       "      <th>satisfaction_level</th>\n",
       "      <td>1.000000</td>\n",
       "      <td>0.105021</td>\n",
       "      <td>-0.142970</td>\n",
       "      <td>-0.020048</td>\n",
       "      <td>-0.100866</td>\n",
       "    </tr>\n",
       "    <tr>\n",
       "      <th>last_evaluation</th>\n",
       "      <td>0.105021</td>\n",
       "      <td>1.000000</td>\n",
       "      <td>0.349333</td>\n",
       "      <td>0.339742</td>\n",
       "      <td>0.131591</td>\n",
       "    </tr>\n",
       "    <tr>\n",
       "      <th>number_project</th>\n",
       "      <td>-0.142970</td>\n",
       "      <td>0.349333</td>\n",
       "      <td>1.000000</td>\n",
       "      <td>0.417211</td>\n",
       "      <td>0.196786</td>\n",
       "    </tr>\n",
       "    <tr>\n",
       "      <th>average_montly_hours</th>\n",
       "      <td>-0.020048</td>\n",
       "      <td>0.339742</td>\n",
       "      <td>0.417211</td>\n",
       "      <td>1.000000</td>\n",
       "      <td>0.127755</td>\n",
       "    </tr>\n",
       "    <tr>\n",
       "      <th>time_spend_company</th>\n",
       "      <td>-0.100866</td>\n",
       "      <td>0.131591</td>\n",
       "      <td>0.196786</td>\n",
       "      <td>0.127755</td>\n",
       "      <td>1.000000</td>\n",
       "    </tr>\n",
       "  </tbody>\n",
       "</table>\n",
       "</div>"
      ],
      "text/plain": [
       "                      satisfaction_level  last_evaluation  number_project  \\\n",
       "satisfaction_level              1.000000         0.105021       -0.142970   \n",
       "last_evaluation                 0.105021         1.000000        0.349333   \n",
       "number_project                 -0.142970         0.349333        1.000000   \n",
       "average_montly_hours           -0.020048         0.339742        0.417211   \n",
       "time_spend_company             -0.100866         0.131591        0.196786   \n",
       "\n",
       "                      average_montly_hours  time_spend_company  \n",
       "satisfaction_level               -0.020048           -0.100866  \n",
       "last_evaluation                   0.339742            0.131591  \n",
       "number_project                    0.417211            0.196786  \n",
       "average_montly_hours              1.000000            0.127755  \n",
       "time_spend_company                0.127755            1.000000  "
      ]
     },
     "execution_count": 122,
     "metadata": {},
     "output_type": "execute_result"
    }
   ],
   "source": [
    "X.loc[:,['satisfaction_level', 'last_evaluation','number_project','average_montly_hours','time_spend_company']].corr()"
   ]
  },
  {
   "cell_type": "code",
   "execution_count": 123,
   "metadata": {},
   "outputs": [
    {
     "data": {
      "text/plain": [
       "<matplotlib.axes._subplots.AxesSubplot at 0x124a0b828>"
      ]
     },
     "execution_count": 123,
     "metadata": {},
     "output_type": "execute_result"
    },
    {
     "data": {
      "image/png": "[encoded data removed]",
      "text/plain": [
       "<matplotlib.figure.Figure at 0x124a0bbe0>"
      ]
     },
     "metadata": {},
     "output_type": "display_data"
    }
   ],
   "source": [
    "sns.heatmap(X.loc[:,['satisfaction_level', 'last_evaluation','number_project','average_montly_hours','time_spend_company']].corr())"
   ]
  },
  {
   "cell_type": "markdown",
   "metadata": {},
   "source": [
    "### Generamos un dataset balanceado con la técnica de Random Under sample\n",
    "\n",
    "* Aplicamos la simple técnica de Random Under Sampling para balancear la clase minoritaria con la mayoritaria (fuga vs no fuga) Esta técnica consiste en generar una muestra aleatoria de los registros que tienen la clase mayoritaria como valor en el target con la misma cantidad de datos que la clase minoritaria\n",
    "\n",
    "* El riesgo de esta técnica es que el muestreo aleatorio no sea suficiente para representar adecuadamente la composicion de los registros de la clase mayoritaria\n",
    "\n",
    "* Para revisar un resumen muy explicativo de las técnicas para balancear clases se recomienda visitar el siguiente link: *<https://www.svds.com/learning-imbalanced-classes/>*"
   ]
  },
  {
   "cell_type": "code",
   "execution_count": 91,
   "metadata": {},
   "outputs": [
    {
     "name": "stdout",
     "output_type": "stream",
     "text": [
      "Información del dataset con Random Under Sampling:\n",
      " y: Counter({0: 3571, 1: 3571})\n"
     ]
    },
    {
     "data": {
      "image/png": "[encoded data removed]",
      "text/plain": [
       "<matplotlib.figure.Figure at 0x1235e14a8>"
      ]
     },
     "metadata": {},
     "output_type": "display_data"
    }
   ],
   "source": [
    "X_us, y_us , index_us= RandomUnderSampler(\n",
    "    ratio='not minority', random_state=0,return_indices=True\n",
    ").fit_sample(X, y)\n",
    "print('Información del dataset con Random Under Sampling:'\n",
    "      '\\n y: {}'.format(Counter(y_train_us)))\n",
    "plot_pie(y_train_us)"
   ]
  },
  {
   "cell_type": "code",
   "execution_count": 92,
   "metadata": {},
   "outputs": [
    {
     "name": "stdout",
     "output_type": "stream",
     "text": [
      "CPU times: user 6.29 s, sys: 244 ms, total: 6.54 s\n",
      "Wall time: 2.57 s\n"
     ]
    }
   ],
   "source": [
    "%%time\n",
    "clf = RandomForestClassifier(\n",
    "    bootstrap=True, criterion='gini',max_features='sqrt',min_samples_split=50,\n",
    "    n_estimators=500,random_state=0,class_weight='balanced',n_jobs=-1, min_samples_leaf =50)\n",
    "# Entreno el modelo\n",
    "clf.fit(X, y)"
   ]
  },
  {
   "cell_type": "code",
   "execution_count": 93,
   "metadata": {},
   "outputs": [
    {
     "name": "stdout",
     "output_type": "stream",
     "text": [
      "                 features  importance    weight\n",
      "0      satisfaction_level    0.294384  1.000000\n",
      "4      time_spend_company    0.264297  0.897794\n",
      "2          number_project    0.161408  0.548289\n",
      "3    average_montly_hours    0.135183  0.459206\n",
      "1         last_evaluation    0.118715  0.403264\n",
      "5           Work_accident    0.012158  0.041299\n",
      "7                  salary    0.009371  0.031833\n",
      "6   promotion_last_5years    0.000975  0.003313\n",
      "17              technical    0.000918  0.003118\n",
      "15                  sales    0.000673  0.002285\n",
      "12             management    0.000553  0.001879\n",
      "9                   RandD    0.000398  0.001353\n",
      "16                support    0.000329  0.001119\n",
      "11                     hr    0.000296  0.001005\n",
      "8                      IT    0.000123  0.000418\n",
      "10             accounting    0.000095  0.000322\n",
      "14            product_mng    0.000079  0.000268\n",
      "13              marketing    0.000045  0.000154\n"
     ]
    },
    {
     "data": {
      "text/plain": [
       "<matplotlib.axes._subplots.AxesSubplot at 0x1223f7748>"
      ]
     },
     "execution_count": 93,
     "metadata": {},
     "output_type": "execute_result"
    },
    {
     "data": {
      "image/png": "[encoded data removed]",
      "text/plain": [
       "<matplotlib.figure.Figure at 0x1223f74a8>"
      ]
     },
     "metadata": {},
     "output_type": "display_data"
    }
   ],
   "source": [
    "# Creamos el dataframe con los resultados\n",
    "arr=clf.feature_importances_/np.max(clf.feature_importances_)\n",
    "raw_data={'features':X.columns.values,'importance':clf.feature_importances_,'weight':arr}\n",
    "features_rf=pd.DataFrame(raw_data,columns=['features','importance','weight'])\n",
    "features_rf=features_rf[features_rf['importance']>0].sort_values(by='weight',ascending=False)\n",
    "print(features_rf)\n",
    "sns.barplot(x='importance', y='features', data=features_rf)"
   ]
  },
  {
   "cell_type": "code",
   "execution_count": 94,
   "metadata": {},
   "outputs": [
    {
     "name": "stdout",
     "output_type": "stream",
     "text": [
      "CPU times: user 2.61 s, sys: 26.6 ms, total: 2.63 s\n",
      "Wall time: 2.65 s\n"
     ]
    }
   ],
   "source": [
    "%%time\n",
    "mi = mutual_info_classif(X,y,random_state=0,discrete_features='auto')"
   ]
  },
  {
   "cell_type": "code",
   "execution_count": 95,
   "metadata": {},
   "outputs": [
    {
     "name": "stdout",
     "output_type": "stream",
     "text": [
      "                 features   m-score  m-weight\n",
      "0      satisfaction_level  0.265709  1.000000\n",
      "2          number_project  0.177603  0.668412\n",
      "3    average_montly_hours  0.128516  0.483673\n",
      "1         last_evaluation  0.099623  0.374932\n",
      "4      time_spend_company  0.083505  0.314272\n",
      "7                  salary  0.017890  0.067329\n",
      "5           Work_accident  0.017456  0.065696\n",
      "12             management  0.006570  0.024726\n",
      "15                  sales  0.006001  0.022586\n",
      "6   promotion_last_5years  0.004868  0.018323\n",
      "8                      IT  0.004464  0.016801\n",
      "17              technical  0.004315  0.016241\n",
      "10             accounting  0.001218  0.004585\n"
     ]
    },
    {
     "data": {
      "text/plain": [
       "<matplotlib.axes._subplots.AxesSubplot at 0x123233518>"
      ]
     },
     "execution_count": 95,
     "metadata": {},
     "output_type": "execute_result"
    },
    {
     "data": {
      "image/png": "[encoded data removed]",
      "text/plain": [
       "<matplotlib.figure.Figure at 0x123271e10>"
      ]
     },
     "metadata": {},
     "output_type": "display_data"
    }
   ],
   "source": [
    "# Creamos el dataframe con los resultados\n",
    "raw_data={'features':X.columns.values,'m-score':mi,'m-weight':mi/np.max(mi)}\n",
    "features_mi=pd.DataFrame(raw_data,columns=['features','m-score','m-weight'])\n",
    "features_mi=features_mi[features_mi['m-score']>0].sort_values(by='m-weight',ascending=False)\n",
    "print(features_mi)\n",
    "sns.barplot(x='m-score', y='features', data=features_mi)"
   ]
  },
  {
   "cell_type": "code",
   "execution_count": 96,
   "metadata": {},
   "outputs": [
    {
     "data": {
      "text/html": [
       "<div>\n",
       "<style>\n",
       "    .dataframe thead tr:only-child th {\n",
       "        text-align: right;\n",
       "    }\n",
       "\n",
       "    .dataframe thead th {\n",
       "        text-align: left;\n",
       "    }\n",
       "\n",
       "    .dataframe tbody tr th {\n",
       "        vertical-align: top;\n",
       "    }\n",
       "</style>\n",
       "<table border=\"1\" class=\"dataframe\">\n",
       "  <thead>\n",
       "    <tr style=\"text-align: right;\">\n",
       "      <th></th>\n",
       "      <th>features</th>\n",
       "      <th>importance</th>\n",
       "      <th>weight</th>\n",
       "      <th>m-score</th>\n",
       "      <th>m-weight</th>\n",
       "    </tr>\n",
       "  </thead>\n",
       "  <tbody>\n",
       "    <tr>\n",
       "      <th>0</th>\n",
       "      <td>satisfaction_level</td>\n",
       "      <td>0.294384</td>\n",
       "      <td>1.000000</td>\n",
       "      <td>0.265709</td>\n",
       "      <td>1.000000</td>\n",
       "    </tr>\n",
       "    <tr>\n",
       "      <th>2</th>\n",
       "      <td>number_project</td>\n",
       "      <td>0.161408</td>\n",
       "      <td>0.548289</td>\n",
       "      <td>0.177603</td>\n",
       "      <td>0.668412</td>\n",
       "    </tr>\n",
       "    <tr>\n",
       "      <th>3</th>\n",
       "      <td>average_montly_hours</td>\n",
       "      <td>0.135183</td>\n",
       "      <td>0.459206</td>\n",
       "      <td>0.128516</td>\n",
       "      <td>0.483673</td>\n",
       "    </tr>\n",
       "    <tr>\n",
       "      <th>4</th>\n",
       "      <td>last_evaluation</td>\n",
       "      <td>0.118715</td>\n",
       "      <td>0.403264</td>\n",
       "      <td>0.099623</td>\n",
       "      <td>0.374932</td>\n",
       "    </tr>\n",
       "    <tr>\n",
       "      <th>1</th>\n",
       "      <td>time_spend_company</td>\n",
       "      <td>0.264297</td>\n",
       "      <td>0.897794</td>\n",
       "      <td>0.083505</td>\n",
       "      <td>0.314272</td>\n",
       "    </tr>\n",
       "    <tr>\n",
       "      <th>6</th>\n",
       "      <td>salary</td>\n",
       "      <td>0.009371</td>\n",
       "      <td>0.031833</td>\n",
       "      <td>0.017890</td>\n",
       "      <td>0.067329</td>\n",
       "    </tr>\n",
       "    <tr>\n",
       "      <th>5</th>\n",
       "      <td>Work_accident</td>\n",
       "      <td>0.012158</td>\n",
       "      <td>0.041299</td>\n",
       "      <td>0.017456</td>\n",
       "      <td>0.065696</td>\n",
       "    </tr>\n",
       "    <tr>\n",
       "      <th>10</th>\n",
       "      <td>management</td>\n",
       "      <td>0.000553</td>\n",
       "      <td>0.001879</td>\n",
       "      <td>0.006570</td>\n",
       "      <td>0.024726</td>\n",
       "    </tr>\n",
       "    <tr>\n",
       "      <th>9</th>\n",
       "      <td>sales</td>\n",
       "      <td>0.000673</td>\n",
       "      <td>0.002285</td>\n",
       "      <td>0.006001</td>\n",
       "      <td>0.022586</td>\n",
       "    </tr>\n",
       "    <tr>\n",
       "      <th>7</th>\n",
       "      <td>promotion_last_5years</td>\n",
       "      <td>0.000975</td>\n",
       "      <td>0.003313</td>\n",
       "      <td>0.004868</td>\n",
       "      <td>0.018323</td>\n",
       "    </tr>\n",
       "    <tr>\n",
       "      <th>14</th>\n",
       "      <td>IT</td>\n",
       "      <td>0.000123</td>\n",
       "      <td>0.000418</td>\n",
       "      <td>0.004464</td>\n",
       "      <td>0.016801</td>\n",
       "    </tr>\n",
       "    <tr>\n",
       "      <th>8</th>\n",
       "      <td>technical</td>\n",
       "      <td>0.000918</td>\n",
       "      <td>0.003118</td>\n",
       "      <td>0.004315</td>\n",
       "      <td>0.016241</td>\n",
       "    </tr>\n",
       "    <tr>\n",
       "      <th>15</th>\n",
       "      <td>accounting</td>\n",
       "      <td>0.000095</td>\n",
       "      <td>0.000322</td>\n",
       "      <td>0.001218</td>\n",
       "      <td>0.004585</td>\n",
       "    </tr>\n",
       "    <tr>\n",
       "      <th>11</th>\n",
       "      <td>RandD</td>\n",
       "      <td>0.000398</td>\n",
       "      <td>0.001353</td>\n",
       "      <td>NaN</td>\n",
       "      <td>NaN</td>\n",
       "    </tr>\n",
       "    <tr>\n",
       "      <th>12</th>\n",
       "      <td>support</td>\n",
       "      <td>0.000329</td>\n",
       "      <td>0.001119</td>\n",
       "      <td>NaN</td>\n",
       "      <td>NaN</td>\n",
       "    </tr>\n",
       "    <tr>\n",
       "      <th>13</th>\n",
       "      <td>hr</td>\n",
       "      <td>0.000296</td>\n",
       "      <td>0.001005</td>\n",
       "      <td>NaN</td>\n",
       "      <td>NaN</td>\n",
       "    </tr>\n",
       "    <tr>\n",
       "      <th>16</th>\n",
       "      <td>product_mng</td>\n",
       "      <td>0.000079</td>\n",
       "      <td>0.000268</td>\n",
       "      <td>NaN</td>\n",
       "      <td>NaN</td>\n",
       "    </tr>\n",
       "    <tr>\n",
       "      <th>17</th>\n",
       "      <td>marketing</td>\n",
       "      <td>0.000045</td>\n",
       "      <td>0.000154</td>\n",
       "      <td>NaN</td>\n",
       "      <td>NaN</td>\n",
       "    </tr>\n",
       "  </tbody>\n",
       "</table>\n",
       "</div>"
      ],
      "text/plain": [
       "                 features  importance    weight   m-score  m-weight\n",
       "0      satisfaction_level    0.294384  1.000000  0.265709  1.000000\n",
       "2          number_project    0.161408  0.548289  0.177603  0.668412\n",
       "3    average_montly_hours    0.135183  0.459206  0.128516  0.483673\n",
       "4         last_evaluation    0.118715  0.403264  0.099623  0.374932\n",
       "1      time_spend_company    0.264297  0.897794  0.083505  0.314272\n",
       "6                  salary    0.009371  0.031833  0.017890  0.067329\n",
       "5           Work_accident    0.012158  0.041299  0.017456  0.065696\n",
       "10             management    0.000553  0.001879  0.006570  0.024726\n",
       "9                   sales    0.000673  0.002285  0.006001  0.022586\n",
       "7   promotion_last_5years    0.000975  0.003313  0.004868  0.018323\n",
       "14                     IT    0.000123  0.000418  0.004464  0.016801\n",
       "8               technical    0.000918  0.003118  0.004315  0.016241\n",
       "15             accounting    0.000095  0.000322  0.001218  0.004585\n",
       "11                  RandD    0.000398  0.001353       NaN       NaN\n",
       "12                support    0.000329  0.001119       NaN       NaN\n",
       "13                     hr    0.000296  0.001005       NaN       NaN\n",
       "16            product_mng    0.000079  0.000268       NaN       NaN\n",
       "17              marketing    0.000045  0.000154       NaN       NaN"
      ]
     },
     "execution_count": 96,
     "metadata": {},
     "output_type": "execute_result"
    }
   ],
   "source": [
    "features_uni=pd.merge(left=features_rf,right=features_mi, how='outer', on='features', left_on=None, right_on=None,\n",
    "                           left_index=False, right_index=False, sort=False,suffixes=('_mi', '_rf'), copy=True, \n",
    "                           indicator=False)\n",
    "features_uni.sort_values(by='m-score',ascending=False)"
   ]
  },
  {
   "cell_type": "markdown",
   "metadata": {},
   "source": [
    "## Selección de variables con RFE\n",
    "\n",
    "* Ahora vamos a usar la técnica de RFE (recursive feature engineer) para seleccionar variables. Esta técnica va ejecutando de forma recursiva el modelo y elimina la variable menos relevante en cada iteración. Con esto se construye un ranking de importancia de variables que permite ordenarlas según su importancia.\n",
    "\n",
    "* Para aplicar esta técnica es necesario que el modelo tenga como output una estimación de la importancia de variables que sirva para ordenar, en particular usaremos Random Forest, Gradient Boosting y Regresión logística"
   ]
  },
  {
   "cell_type": "code",
   "execution_count": 97,
   "metadata": {},
   "outputs": [
    {
     "name": "stdout",
     "output_type": "stream",
     "text": [
      "CPU times: user 241 ms, sys: 15.7 ms, total: 257 ms\n",
      "Wall time: 264 ms\n"
     ]
    }
   ],
   "source": [
    "%%time\n",
    "# Extracción de variables con RFE\n",
    "model = LogisticRegression(random_state=0,warm_start=True)\n",
    "rfe_lr = RFE(model, n_features_to_select=1)\n",
    "fit_rl = rfe_lr.fit(X_train_us, y_train_us)"
   ]
  },
  {
   "cell_type": "code",
   "execution_count": 98,
   "metadata": {},
   "outputs": [
    {
     "data": {
      "text/html": [
       "<div>\n",
       "<style>\n",
       "    .dataframe thead tr:only-child th {\n",
       "        text-align: right;\n",
       "    }\n",
       "\n",
       "    .dataframe thead th {\n",
       "        text-align: left;\n",
       "    }\n",
       "\n",
       "    .dataframe tbody tr th {\n",
       "        vertical-align: top;\n",
       "    }\n",
       "</style>\n",
       "<table border=\"1\" class=\"dataframe\">\n",
       "  <thead>\n",
       "    <tr style=\"text-align: right;\">\n",
       "      <th></th>\n",
       "      <th>features</th>\n",
       "      <th>importance</th>\n",
       "      <th>weight</th>\n",
       "      <th>m-score</th>\n",
       "      <th>m-weight</th>\n",
       "      <th>ranking</th>\n",
       "    </tr>\n",
       "  </thead>\n",
       "  <tbody>\n",
       "    <tr>\n",
       "      <th>0</th>\n",
       "      <td>satisfaction_level</td>\n",
       "      <td>0.294384</td>\n",
       "      <td>1.000000</td>\n",
       "      <td>0.265709</td>\n",
       "      <td>1.000000</td>\n",
       "      <td>1</td>\n",
       "    </tr>\n",
       "    <tr>\n",
       "      <th>5</th>\n",
       "      <td>Work_accident</td>\n",
       "      <td>0.012158</td>\n",
       "      <td>0.041299</td>\n",
       "      <td>0.017456</td>\n",
       "      <td>0.065696</td>\n",
       "      <td>2</td>\n",
       "    </tr>\n",
       "    <tr>\n",
       "      <th>7</th>\n",
       "      <td>promotion_last_5years</td>\n",
       "      <td>0.000975</td>\n",
       "      <td>0.003313</td>\n",
       "      <td>0.004868</td>\n",
       "      <td>0.018323</td>\n",
       "      <td>3</td>\n",
       "    </tr>\n",
       "    <tr>\n",
       "      <th>6</th>\n",
       "      <td>salary</td>\n",
       "      <td>0.009371</td>\n",
       "      <td>0.031833</td>\n",
       "      <td>0.017890</td>\n",
       "      <td>0.067329</td>\n",
       "      <td>4</td>\n",
       "    </tr>\n",
       "    <tr>\n",
       "      <th>10</th>\n",
       "      <td>management</td>\n",
       "      <td>0.000553</td>\n",
       "      <td>0.001879</td>\n",
       "      <td>0.006570</td>\n",
       "      <td>0.024726</td>\n",
       "      <td>5</td>\n",
       "    </tr>\n",
       "    <tr>\n",
       "      <th>1</th>\n",
       "      <td>time_spend_company</td>\n",
       "      <td>0.264297</td>\n",
       "      <td>0.897794</td>\n",
       "      <td>0.083505</td>\n",
       "      <td>0.314272</td>\n",
       "      <td>6</td>\n",
       "    </tr>\n",
       "    <tr>\n",
       "      <th>11</th>\n",
       "      <td>RandD</td>\n",
       "      <td>0.000398</td>\n",
       "      <td>0.001353</td>\n",
       "      <td>NaN</td>\n",
       "      <td>NaN</td>\n",
       "      <td>7</td>\n",
       "    </tr>\n",
       "    <tr>\n",
       "      <th>4</th>\n",
       "      <td>last_evaluation</td>\n",
       "      <td>0.118715</td>\n",
       "      <td>0.403264</td>\n",
       "      <td>0.099623</td>\n",
       "      <td>0.374932</td>\n",
       "      <td>8</td>\n",
       "    </tr>\n",
       "    <tr>\n",
       "      <th>2</th>\n",
       "      <td>number_project</td>\n",
       "      <td>0.161408</td>\n",
       "      <td>0.548289</td>\n",
       "      <td>0.177603</td>\n",
       "      <td>0.668412</td>\n",
       "      <td>9</td>\n",
       "    </tr>\n",
       "    <tr>\n",
       "      <th>13</th>\n",
       "      <td>hr</td>\n",
       "      <td>0.000296</td>\n",
       "      <td>0.001005</td>\n",
       "      <td>NaN</td>\n",
       "      <td>NaN</td>\n",
       "      <td>10</td>\n",
       "    </tr>\n",
       "    <tr>\n",
       "      <th>17</th>\n",
       "      <td>marketing</td>\n",
       "      <td>0.000045</td>\n",
       "      <td>0.000154</td>\n",
       "      <td>NaN</td>\n",
       "      <td>NaN</td>\n",
       "      <td>11</td>\n",
       "    </tr>\n",
       "    <tr>\n",
       "      <th>8</th>\n",
       "      <td>technical</td>\n",
       "      <td>0.000918</td>\n",
       "      <td>0.003118</td>\n",
       "      <td>0.004315</td>\n",
       "      <td>0.016241</td>\n",
       "      <td>12</td>\n",
       "    </tr>\n",
       "    <tr>\n",
       "      <th>12</th>\n",
       "      <td>support</td>\n",
       "      <td>0.000329</td>\n",
       "      <td>0.001119</td>\n",
       "      <td>NaN</td>\n",
       "      <td>NaN</td>\n",
       "      <td>13</td>\n",
       "    </tr>\n",
       "    <tr>\n",
       "      <th>15</th>\n",
       "      <td>accounting</td>\n",
       "      <td>0.000095</td>\n",
       "      <td>0.000322</td>\n",
       "      <td>0.001218</td>\n",
       "      <td>0.004585</td>\n",
       "      <td>14</td>\n",
       "    </tr>\n",
       "    <tr>\n",
       "      <th>9</th>\n",
       "      <td>sales</td>\n",
       "      <td>0.000673</td>\n",
       "      <td>0.002285</td>\n",
       "      <td>0.006001</td>\n",
       "      <td>0.022586</td>\n",
       "      <td>15</td>\n",
       "    </tr>\n",
       "    <tr>\n",
       "      <th>16</th>\n",
       "      <td>product_mng</td>\n",
       "      <td>0.000079</td>\n",
       "      <td>0.000268</td>\n",
       "      <td>NaN</td>\n",
       "      <td>NaN</td>\n",
       "      <td>16</td>\n",
       "    </tr>\n",
       "    <tr>\n",
       "      <th>14</th>\n",
       "      <td>IT</td>\n",
       "      <td>0.000123</td>\n",
       "      <td>0.000418</td>\n",
       "      <td>0.004464</td>\n",
       "      <td>0.016801</td>\n",
       "      <td>17</td>\n",
       "    </tr>\n",
       "    <tr>\n",
       "      <th>3</th>\n",
       "      <td>average_montly_hours</td>\n",
       "      <td>0.135183</td>\n",
       "      <td>0.459206</td>\n",
       "      <td>0.128516</td>\n",
       "      <td>0.483673</td>\n",
       "      <td>18</td>\n",
       "    </tr>\n",
       "  </tbody>\n",
       "</table>\n",
       "</div>"
      ],
      "text/plain": [
       "                 features  importance    weight   m-score  m-weight  ranking\n",
       "0      satisfaction_level    0.294384  1.000000  0.265709  1.000000        1\n",
       "5           Work_accident    0.012158  0.041299  0.017456  0.065696        2\n",
       "7   promotion_last_5years    0.000975  0.003313  0.004868  0.018323        3\n",
       "6                  salary    0.009371  0.031833  0.017890  0.067329        4\n",
       "10             management    0.000553  0.001879  0.006570  0.024726        5\n",
       "1      time_spend_company    0.264297  0.897794  0.083505  0.314272        6\n",
       "11                  RandD    0.000398  0.001353       NaN       NaN        7\n",
       "4         last_evaluation    0.118715  0.403264  0.099623  0.374932        8\n",
       "2          number_project    0.161408  0.548289  0.177603  0.668412        9\n",
       "13                     hr    0.000296  0.001005       NaN       NaN       10\n",
       "17              marketing    0.000045  0.000154       NaN       NaN       11\n",
       "8               technical    0.000918  0.003118  0.004315  0.016241       12\n",
       "12                support    0.000329  0.001119       NaN       NaN       13\n",
       "15             accounting    0.000095  0.000322  0.001218  0.004585       14\n",
       "9                   sales    0.000673  0.002285  0.006001  0.022586       15\n",
       "16            product_mng    0.000079  0.000268       NaN       NaN       16\n",
       "14                     IT    0.000123  0.000418  0.004464  0.016801       17\n",
       "3    average_montly_hours    0.135183  0.459206  0.128516  0.483673       18"
      ]
     },
     "execution_count": 98,
     "metadata": {},
     "output_type": "execute_result"
    }
   ],
   "source": [
    "raw_data={'features':X.columns.values,'ranking':fit_rl.ranking_}\n",
    "features_ffe_rl=pd.DataFrame(raw_data,columns=['features','ranking']).sort_values(by='ranking',ascending=True)\n",
    "selected_features=pd.merge(left=features_uni,right=features_ffe_rl, how='right', on='features', left_on=None, right_on=None,\n",
    "                           left_index=False, right_index=False, sort=False,suffixes=('_bf', '_ffe_rl'), copy=True, \n",
    "                           indicator=False)\n",
    "selected_features.sort_values(by='ranking',ascending=True)"
   ]
  },
  {
   "cell_type": "code",
   "execution_count": 99,
   "metadata": {},
   "outputs": [
    {
     "name": "stdout",
     "output_type": "stream",
     "text": [
      "Num Features: 1\n",
      "Selected Features: [ True False False False False False False False False False False False\n",
      " False False False False False False]\n",
      "Feature Ranking: [ 1  5  4  3  2  6 10  7 15 12 16 14 11 18 17  9 13  8]\n",
      "CPU times: user 1min 45s, sys: 3.35 s, total: 1min 48s\n",
      "Wall time: 49 s\n"
     ]
    }
   ],
   "source": [
    "%%time\n",
    "model = RandomForestClassifier(\n",
    "    bootstrap=True, class_weight='balanced', criterion='gini',max_features='sqrt',\n",
    "    n_estimators=500,random_state=0,n_jobs=-1, min_samples_leaf = 50,min_samples_split=50)\n",
    "rfe_rf = RFE(model, n_features_to_select=1)\n",
    "fit_rf = rfe_rf.fit(X, y)\n",
    "print(\"Num Features: %d\" % fit_rf.n_features_)\n",
    "print(\"Selected Features: %s\" % fit_rf.support_)\n",
    "print(\"Feature Ranking: %s\" % fit_rf.ranking_)\n",
    "X.loc[:,fit_rf.support_].columns.values"
   ]
  },
  {
   "cell_type": "code",
   "execution_count": 100,
   "metadata": {},
   "outputs": [
    {
     "data": {
      "text/html": [
       "<div>\n",
       "<style>\n",
       "    .dataframe thead tr:only-child th {\n",
       "        text-align: right;\n",
       "    }\n",
       "\n",
       "    .dataframe thead th {\n",
       "        text-align: left;\n",
       "    }\n",
       "\n",
       "    .dataframe tbody tr th {\n",
       "        vertical-align: top;\n",
       "    }\n",
       "</style>\n",
       "<table border=\"1\" class=\"dataframe\">\n",
       "  <thead>\n",
       "    <tr style=\"text-align: right;\">\n",
       "      <th></th>\n",
       "      <th>features</th>\n",
       "      <th>ranking_rf</th>\n",
       "      <th>importance</th>\n",
       "      <th>weight</th>\n",
       "      <th>m-score</th>\n",
       "      <th>m-weight</th>\n",
       "      <th>ranking_rl</th>\n",
       "    </tr>\n",
       "  </thead>\n",
       "  <tbody>\n",
       "    <tr>\n",
       "      <th>0</th>\n",
       "      <td>satisfaction_level</td>\n",
       "      <td>1</td>\n",
       "      <td>0.294384</td>\n",
       "      <td>1.000000</td>\n",
       "      <td>0.265709</td>\n",
       "      <td>1.000000</td>\n",
       "      <td>1</td>\n",
       "    </tr>\n",
       "    <tr>\n",
       "      <th>1</th>\n",
       "      <td>time_spend_company</td>\n",
       "      <td>2</td>\n",
       "      <td>0.264297</td>\n",
       "      <td>0.897794</td>\n",
       "      <td>0.083505</td>\n",
       "      <td>0.314272</td>\n",
       "      <td>6</td>\n",
       "    </tr>\n",
       "    <tr>\n",
       "      <th>2</th>\n",
       "      <td>average_montly_hours</td>\n",
       "      <td>3</td>\n",
       "      <td>0.135183</td>\n",
       "      <td>0.459206</td>\n",
       "      <td>0.128516</td>\n",
       "      <td>0.483673</td>\n",
       "      <td>18</td>\n",
       "    </tr>\n",
       "    <tr>\n",
       "      <th>3</th>\n",
       "      <td>number_project</td>\n",
       "      <td>4</td>\n",
       "      <td>0.161408</td>\n",
       "      <td>0.548289</td>\n",
       "      <td>0.177603</td>\n",
       "      <td>0.668412</td>\n",
       "      <td>9</td>\n",
       "    </tr>\n",
       "    <tr>\n",
       "      <th>4</th>\n",
       "      <td>last_evaluation</td>\n",
       "      <td>5</td>\n",
       "      <td>0.118715</td>\n",
       "      <td>0.403264</td>\n",
       "      <td>0.099623</td>\n",
       "      <td>0.374932</td>\n",
       "      <td>8</td>\n",
       "    </tr>\n",
       "    <tr>\n",
       "      <th>5</th>\n",
       "      <td>Work_accident</td>\n",
       "      <td>6</td>\n",
       "      <td>0.012158</td>\n",
       "      <td>0.041299</td>\n",
       "      <td>0.017456</td>\n",
       "      <td>0.065696</td>\n",
       "      <td>2</td>\n",
       "    </tr>\n",
       "    <tr>\n",
       "      <th>6</th>\n",
       "      <td>salary</td>\n",
       "      <td>7</td>\n",
       "      <td>0.009371</td>\n",
       "      <td>0.031833</td>\n",
       "      <td>0.017890</td>\n",
       "      <td>0.067329</td>\n",
       "      <td>4</td>\n",
       "    </tr>\n",
       "    <tr>\n",
       "      <th>7</th>\n",
       "      <td>technical</td>\n",
       "      <td>8</td>\n",
       "      <td>0.000918</td>\n",
       "      <td>0.003118</td>\n",
       "      <td>0.004315</td>\n",
       "      <td>0.016241</td>\n",
       "      <td>12</td>\n",
       "    </tr>\n",
       "    <tr>\n",
       "      <th>8</th>\n",
       "      <td>sales</td>\n",
       "      <td>9</td>\n",
       "      <td>0.000673</td>\n",
       "      <td>0.002285</td>\n",
       "      <td>0.006001</td>\n",
       "      <td>0.022586</td>\n",
       "      <td>15</td>\n",
       "    </tr>\n",
       "    <tr>\n",
       "      <th>9</th>\n",
       "      <td>promotion_last_5years</td>\n",
       "      <td>10</td>\n",
       "      <td>0.000975</td>\n",
       "      <td>0.003313</td>\n",
       "      <td>0.004868</td>\n",
       "      <td>0.018323</td>\n",
       "      <td>3</td>\n",
       "    </tr>\n",
       "    <tr>\n",
       "      <th>10</th>\n",
       "      <td>management</td>\n",
       "      <td>11</td>\n",
       "      <td>0.000553</td>\n",
       "      <td>0.001879</td>\n",
       "      <td>0.006570</td>\n",
       "      <td>0.024726</td>\n",
       "      <td>5</td>\n",
       "    </tr>\n",
       "    <tr>\n",
       "      <th>11</th>\n",
       "      <td>RandD</td>\n",
       "      <td>12</td>\n",
       "      <td>0.000398</td>\n",
       "      <td>0.001353</td>\n",
       "      <td>NaN</td>\n",
       "      <td>NaN</td>\n",
       "      <td>7</td>\n",
       "    </tr>\n",
       "    <tr>\n",
       "      <th>12</th>\n",
       "      <td>support</td>\n",
       "      <td>13</td>\n",
       "      <td>0.000329</td>\n",
       "      <td>0.001119</td>\n",
       "      <td>NaN</td>\n",
       "      <td>NaN</td>\n",
       "      <td>13</td>\n",
       "    </tr>\n",
       "    <tr>\n",
       "      <th>13</th>\n",
       "      <td>hr</td>\n",
       "      <td>14</td>\n",
       "      <td>0.000296</td>\n",
       "      <td>0.001005</td>\n",
       "      <td>NaN</td>\n",
       "      <td>NaN</td>\n",
       "      <td>10</td>\n",
       "    </tr>\n",
       "    <tr>\n",
       "      <th>14</th>\n",
       "      <td>IT</td>\n",
       "      <td>15</td>\n",
       "      <td>0.000123</td>\n",
       "      <td>0.000418</td>\n",
       "      <td>0.004464</td>\n",
       "      <td>0.016801</td>\n",
       "      <td>17</td>\n",
       "    </tr>\n",
       "    <tr>\n",
       "      <th>15</th>\n",
       "      <td>accounting</td>\n",
       "      <td>16</td>\n",
       "      <td>0.000095</td>\n",
       "      <td>0.000322</td>\n",
       "      <td>0.001218</td>\n",
       "      <td>0.004585</td>\n",
       "      <td>14</td>\n",
       "    </tr>\n",
       "    <tr>\n",
       "      <th>16</th>\n",
       "      <td>product_mng</td>\n",
       "      <td>17</td>\n",
       "      <td>0.000079</td>\n",
       "      <td>0.000268</td>\n",
       "      <td>NaN</td>\n",
       "      <td>NaN</td>\n",
       "      <td>16</td>\n",
       "    </tr>\n",
       "    <tr>\n",
       "      <th>17</th>\n",
       "      <td>marketing</td>\n",
       "      <td>18</td>\n",
       "      <td>0.000045</td>\n",
       "      <td>0.000154</td>\n",
       "      <td>NaN</td>\n",
       "      <td>NaN</td>\n",
       "      <td>11</td>\n",
       "    </tr>\n",
       "  </tbody>\n",
       "</table>\n",
       "</div>"
      ],
      "text/plain": [
       "                 features  ranking_rf  importance    weight   m-score  \\\n",
       "0      satisfaction_level           1    0.294384  1.000000  0.265709   \n",
       "1      time_spend_company           2    0.264297  0.897794  0.083505   \n",
       "2    average_montly_hours           3    0.135183  0.459206  0.128516   \n",
       "3          number_project           4    0.161408  0.548289  0.177603   \n",
       "4         last_evaluation           5    0.118715  0.403264  0.099623   \n",
       "5           Work_accident           6    0.012158  0.041299  0.017456   \n",
       "6                  salary           7    0.009371  0.031833  0.017890   \n",
       "7               technical           8    0.000918  0.003118  0.004315   \n",
       "8                   sales           9    0.000673  0.002285  0.006001   \n",
       "9   promotion_last_5years          10    0.000975  0.003313  0.004868   \n",
       "10             management          11    0.000553  0.001879  0.006570   \n",
       "11                  RandD          12    0.000398  0.001353       NaN   \n",
       "12                support          13    0.000329  0.001119       NaN   \n",
       "13                     hr          14    0.000296  0.001005       NaN   \n",
       "14                     IT          15    0.000123  0.000418  0.004464   \n",
       "15             accounting          16    0.000095  0.000322  0.001218   \n",
       "16            product_mng          17    0.000079  0.000268       NaN   \n",
       "17              marketing          18    0.000045  0.000154       NaN   \n",
       "\n",
       "    m-weight  ranking_rl  \n",
       "0   1.000000           1  \n",
       "1   0.314272           6  \n",
       "2   0.483673          18  \n",
       "3   0.668412           9  \n",
       "4   0.374932           8  \n",
       "5   0.065696           2  \n",
       "6   0.067329           4  \n",
       "7   0.016241          12  \n",
       "8   0.022586          15  \n",
       "9   0.018323           3  \n",
       "10  0.024726           5  \n",
       "11       NaN           7  \n",
       "12       NaN          13  \n",
       "13       NaN          10  \n",
       "14  0.016801          17  \n",
       "15  0.004585          14  \n",
       "16       NaN          16  \n",
       "17       NaN          11  "
      ]
     },
     "execution_count": 100,
     "metadata": {},
     "output_type": "execute_result"
    }
   ],
   "source": [
    "raw_data={'features':X.columns.values,'ranking':fit_rf.ranking_}\n",
    "features_ffe_rf=pd.DataFrame(raw_data,columns=['features','ranking']).sort_values(by='ranking',ascending=True)\n",
    "selected_features=pd.merge(left=features_ffe_rf,right=selected_features, how='right', on='features', \n",
    "                           left_on=None, right_on=None,left_index=False, right_index=False, \n",
    "                           sort=False,suffixes=('_rf', '_rl'), copy=True, indicator=False)\n",
    "selected_features.sort_values(by='ranking_rf',ascending=True)"
   ]
  },
  {
   "cell_type": "code",
   "execution_count": 101,
   "metadata": {},
   "outputs": [
    {
     "name": "stdout",
     "output_type": "stream",
     "text": [
      "CPU times: user 36.5 s, sys: 79 ms, total: 36.5 s\n",
      "Wall time: 36.7 s\n"
     ]
    }
   ],
   "source": [
    "%%time\n",
    "# Extracción de variables con RFE\n",
    "model = GradientBoostingClassifier(\n",
    "    random_state=0,max_features='sqrt',subsample=0.8,\n",
    "    learning_rate=0.01, max_depth=5,n_estimators=500,\n",
    "    min_samples_split = 70,warm_start=True,presort=True)\n",
    "rfe_gb = RFE(model, n_features_to_select=1)\n",
    "fit_gb = rfe_gb.fit(X=X_train_us, y=y_train_us)"
   ]
  },
  {
   "cell_type": "code",
   "execution_count": 102,
   "metadata": {},
   "outputs": [
    {
     "data": {
      "text/html": [
       "<div>\n",
       "<style>\n",
       "    .dataframe thead tr:only-child th {\n",
       "        text-align: right;\n",
       "    }\n",
       "\n",
       "    .dataframe thead th {\n",
       "        text-align: left;\n",
       "    }\n",
       "\n",
       "    .dataframe tbody tr th {\n",
       "        vertical-align: top;\n",
       "    }\n",
       "</style>\n",
       "<table border=\"1\" class=\"dataframe\">\n",
       "  <thead>\n",
       "    <tr style=\"text-align: right;\">\n",
       "      <th></th>\n",
       "      <th>features</th>\n",
       "      <th>ranking_gb</th>\n",
       "      <th>ranking_rf</th>\n",
       "      <th>importance</th>\n",
       "      <th>weight</th>\n",
       "      <th>m-score</th>\n",
       "      <th>m-weight</th>\n",
       "      <th>ranking_rl</th>\n",
       "    </tr>\n",
       "  </thead>\n",
       "  <tbody>\n",
       "    <tr>\n",
       "      <th>0</th>\n",
       "      <td>satisfaction_level</td>\n",
       "      <td>1</td>\n",
       "      <td>1</td>\n",
       "      <td>0.294384</td>\n",
       "      <td>1.000000</td>\n",
       "      <td>0.265709</td>\n",
       "      <td>1.000000</td>\n",
       "      <td>1</td>\n",
       "    </tr>\n",
       "    <tr>\n",
       "      <th>1</th>\n",
       "      <td>time_spend_company</td>\n",
       "      <td>2</td>\n",
       "      <td>2</td>\n",
       "      <td>0.264297</td>\n",
       "      <td>0.897794</td>\n",
       "      <td>0.083505</td>\n",
       "      <td>0.314272</td>\n",
       "      <td>6</td>\n",
       "    </tr>\n",
       "    <tr>\n",
       "      <th>2</th>\n",
       "      <td>average_montly_hours</td>\n",
       "      <td>3</td>\n",
       "      <td>3</td>\n",
       "      <td>0.135183</td>\n",
       "      <td>0.459206</td>\n",
       "      <td>0.128516</td>\n",
       "      <td>0.483673</td>\n",
       "      <td>18</td>\n",
       "    </tr>\n",
       "    <tr>\n",
       "      <th>3</th>\n",
       "      <td>number_project</td>\n",
       "      <td>4</td>\n",
       "      <td>4</td>\n",
       "      <td>0.161408</td>\n",
       "      <td>0.548289</td>\n",
       "      <td>0.177603</td>\n",
       "      <td>0.668412</td>\n",
       "      <td>9</td>\n",
       "    </tr>\n",
       "    <tr>\n",
       "      <th>4</th>\n",
       "      <td>last_evaluation</td>\n",
       "      <td>5</td>\n",
       "      <td>5</td>\n",
       "      <td>0.118715</td>\n",
       "      <td>0.403264</td>\n",
       "      <td>0.099623</td>\n",
       "      <td>0.374932</td>\n",
       "      <td>8</td>\n",
       "    </tr>\n",
       "    <tr>\n",
       "      <th>5</th>\n",
       "      <td>salary</td>\n",
       "      <td>6</td>\n",
       "      <td>7</td>\n",
       "      <td>0.009371</td>\n",
       "      <td>0.031833</td>\n",
       "      <td>0.017890</td>\n",
       "      <td>0.067329</td>\n",
       "      <td>4</td>\n",
       "    </tr>\n",
       "    <tr>\n",
       "      <th>6</th>\n",
       "      <td>Work_accident</td>\n",
       "      <td>7</td>\n",
       "      <td>6</td>\n",
       "      <td>0.012158</td>\n",
       "      <td>0.041299</td>\n",
       "      <td>0.017456</td>\n",
       "      <td>0.065696</td>\n",
       "      <td>2</td>\n",
       "    </tr>\n",
       "    <tr>\n",
       "      <th>7</th>\n",
       "      <td>product_mng</td>\n",
       "      <td>8</td>\n",
       "      <td>17</td>\n",
       "      <td>0.000079</td>\n",
       "      <td>0.000268</td>\n",
       "      <td>NaN</td>\n",
       "      <td>NaN</td>\n",
       "      <td>16</td>\n",
       "    </tr>\n",
       "    <tr>\n",
       "      <th>8</th>\n",
       "      <td>technical</td>\n",
       "      <td>9</td>\n",
       "      <td>8</td>\n",
       "      <td>0.000918</td>\n",
       "      <td>0.003118</td>\n",
       "      <td>0.004315</td>\n",
       "      <td>0.016241</td>\n",
       "      <td>12</td>\n",
       "    </tr>\n",
       "    <tr>\n",
       "      <th>9</th>\n",
       "      <td>hr</td>\n",
       "      <td>10</td>\n",
       "      <td>14</td>\n",
       "      <td>0.000296</td>\n",
       "      <td>0.001005</td>\n",
       "      <td>NaN</td>\n",
       "      <td>NaN</td>\n",
       "      <td>10</td>\n",
       "    </tr>\n",
       "    <tr>\n",
       "      <th>10</th>\n",
       "      <td>promotion_last_5years</td>\n",
       "      <td>11</td>\n",
       "      <td>10</td>\n",
       "      <td>0.000975</td>\n",
       "      <td>0.003313</td>\n",
       "      <td>0.004868</td>\n",
       "      <td>0.018323</td>\n",
       "      <td>3</td>\n",
       "    </tr>\n",
       "    <tr>\n",
       "      <th>11</th>\n",
       "      <td>IT</td>\n",
       "      <td>12</td>\n",
       "      <td>15</td>\n",
       "      <td>0.000123</td>\n",
       "      <td>0.000418</td>\n",
       "      <td>0.004464</td>\n",
       "      <td>0.016801</td>\n",
       "      <td>17</td>\n",
       "    </tr>\n",
       "    <tr>\n",
       "      <th>12</th>\n",
       "      <td>support</td>\n",
       "      <td>13</td>\n",
       "      <td>13</td>\n",
       "      <td>0.000329</td>\n",
       "      <td>0.001119</td>\n",
       "      <td>NaN</td>\n",
       "      <td>NaN</td>\n",
       "      <td>13</td>\n",
       "    </tr>\n",
       "    <tr>\n",
       "      <th>13</th>\n",
       "      <td>management</td>\n",
       "      <td>14</td>\n",
       "      <td>11</td>\n",
       "      <td>0.000553</td>\n",
       "      <td>0.001879</td>\n",
       "      <td>0.006570</td>\n",
       "      <td>0.024726</td>\n",
       "      <td>5</td>\n",
       "    </tr>\n",
       "    <tr>\n",
       "      <th>14</th>\n",
       "      <td>RandD</td>\n",
       "      <td>15</td>\n",
       "      <td>12</td>\n",
       "      <td>0.000398</td>\n",
       "      <td>0.001353</td>\n",
       "      <td>NaN</td>\n",
       "      <td>NaN</td>\n",
       "      <td>7</td>\n",
       "    </tr>\n",
       "    <tr>\n",
       "      <th>15</th>\n",
       "      <td>accounting</td>\n",
       "      <td>16</td>\n",
       "      <td>16</td>\n",
       "      <td>0.000095</td>\n",
       "      <td>0.000322</td>\n",
       "      <td>0.001218</td>\n",
       "      <td>0.004585</td>\n",
       "      <td>14</td>\n",
       "    </tr>\n",
       "    <tr>\n",
       "      <th>16</th>\n",
       "      <td>sales</td>\n",
       "      <td>17</td>\n",
       "      <td>9</td>\n",
       "      <td>0.000673</td>\n",
       "      <td>0.002285</td>\n",
       "      <td>0.006001</td>\n",
       "      <td>0.022586</td>\n",
       "      <td>15</td>\n",
       "    </tr>\n",
       "    <tr>\n",
       "      <th>17</th>\n",
       "      <td>marketing</td>\n",
       "      <td>18</td>\n",
       "      <td>18</td>\n",
       "      <td>0.000045</td>\n",
       "      <td>0.000154</td>\n",
       "      <td>NaN</td>\n",
       "      <td>NaN</td>\n",
       "      <td>11</td>\n",
       "    </tr>\n",
       "  </tbody>\n",
       "</table>\n",
       "</div>"
      ],
      "text/plain": [
       "                 features  ranking_gb  ranking_rf  importance    weight  \\\n",
       "0      satisfaction_level           1           1    0.294384  1.000000   \n",
       "1      time_spend_company           2           2    0.264297  0.897794   \n",
       "2    average_montly_hours           3           3    0.135183  0.459206   \n",
       "3          number_project           4           4    0.161408  0.548289   \n",
       "4         last_evaluation           5           5    0.118715  0.403264   \n",
       "5                  salary           6           7    0.009371  0.031833   \n",
       "6           Work_accident           7           6    0.012158  0.041299   \n",
       "7             product_mng           8          17    0.000079  0.000268   \n",
       "8               technical           9           8    0.000918  0.003118   \n",
       "9                      hr          10          14    0.000296  0.001005   \n",
       "10  promotion_last_5years          11          10    0.000975  0.003313   \n",
       "11                     IT          12          15    0.000123  0.000418   \n",
       "12                support          13          13    0.000329  0.001119   \n",
       "13             management          14          11    0.000553  0.001879   \n",
       "14                  RandD          15          12    0.000398  0.001353   \n",
       "15             accounting          16          16    0.000095  0.000322   \n",
       "16                  sales          17           9    0.000673  0.002285   \n",
       "17              marketing          18          18    0.000045  0.000154   \n",
       "\n",
       "     m-score  m-weight  ranking_rl  \n",
       "0   0.265709  1.000000           1  \n",
       "1   0.083505  0.314272           6  \n",
       "2   0.128516  0.483673          18  \n",
       "3   0.177603  0.668412           9  \n",
       "4   0.099623  0.374932           8  \n",
       "5   0.017890  0.067329           4  \n",
       "6   0.017456  0.065696           2  \n",
       "7        NaN       NaN          16  \n",
       "8   0.004315  0.016241          12  \n",
       "9        NaN       NaN          10  \n",
       "10  0.004868  0.018323           3  \n",
       "11  0.004464  0.016801          17  \n",
       "12       NaN       NaN          13  \n",
       "13  0.006570  0.024726           5  \n",
       "14       NaN       NaN           7  \n",
       "15  0.001218  0.004585          14  \n",
       "16  0.006001  0.022586          15  \n",
       "17       NaN       NaN          11  "
      ]
     },
     "execution_count": 102,
     "metadata": {},
     "output_type": "execute_result"
    }
   ],
   "source": [
    "raw_data={'features':X.columns.values,'ranking_gb':fit_gb.ranking_}\n",
    "features_ffe_gb=pd.DataFrame(raw_data,columns=['features','ranking_gb']).sort_values(by='ranking_gb',ascending=True)\n",
    "selected_features=pd.merge(left=features_ffe_gb,right=selected_features, how='right', on='features', \n",
    "                           left_on=None, right_on=None,left_index=False, right_index=False, \n",
    "                           sort=False,suffixes=('_gb', '_sf'), copy=True, indicator=False)\n",
    "selected_features.sort_values(by='ranking_gb',ascending=True)"
   ]
  },
  {
   "cell_type": "markdown",
   "metadata": {},
   "source": [
    "### Usando linear suport vector classification\n",
    "\n",
    "* Se utiliza el algoritmo linear suport vector classification con penalización l1 para estimar los coeficientes y un coeficiente de 0.005, los cuales son llevados a valor absoluto para luego ser rankeados en orden de importancia\n",
    "\n",
    "*<http://scikit-learn.org/stable/modules/generated/sklearn.svm.LinearSVC.html>*\n",
    "\n",
    "*<https://datascience.stackexchange.com/questions/6987/can-you-explain-the-difference-between-svc-and-linearsvc-in-scikit-learn>*\n",
    "\n",
    "*<https://www.analyticsvidhya.com/blog/2017/09/understaing-support-vector-machine-example-code/>*"
   ]
  },
  {
   "cell_type": "code",
   "execution_count": 103,
   "metadata": {},
   "outputs": [
    {
     "name": "stdout",
     "output_type": "stream",
     "text": [
      "(14999, 6)\n",
      "CPU times: user 77.6 ms, sys: 2.58 ms, total: 80.1 ms\n",
      "Wall time: 80.7 ms\n"
     ]
    }
   ],
   "source": [
    "%%time\n",
    "lsvc = LinearSVC(C=0.005, penalty=\"l1\", random_state=0,dual=False,\n",
    "                 loss='squared_hinge').fit(X_train_us, y_train_us)\n",
    "model = SelectFromModel(lsvc, prefit=True)\n",
    "X_new = model.transform(X)\n",
    "print(X_new.shape)"
   ]
  },
  {
   "cell_type": "code",
   "execution_count": 104,
   "metadata": {},
   "outputs": [
    {
     "data": {
      "text/plain": [
       "<matplotlib.axes._subplots.AxesSubplot at 0x1220b7a90>"
      ]
     },
     "execution_count": 104,
     "metadata": {},
     "output_type": "execute_result"
    },
    {
     "data": {
      "image/png": "[encoded data removed]",
      "text/plain": [
       "<matplotlib.figure.Figure at 0x1220adc50>"
      ]
     },
     "metadata": {},
     "output_type": "display_data"
    }
   ],
   "source": [
    "raw_data={'features':X.columns.values,'coef_svc':np.abs(lsvc.coef_[0])}\n",
    "features_svc=pd.DataFrame(raw_data,columns=['features','coef_svc']).sort_values(by='coef_svc',ascending=False)\n",
    "features_svc['ranking_svc']=range(1,len(lsvc.coef_[0])+1)\n",
    "sns.barplot(x='coef_svc', y='features', data=features_svc)"
   ]
  },
  {
   "cell_type": "code",
   "execution_count": 105,
   "metadata": {},
   "outputs": [
    {
     "data": {
      "text/html": [
       "<div>\n",
       "<style>\n",
       "    .dataframe thead tr:only-child th {\n",
       "        text-align: right;\n",
       "    }\n",
       "\n",
       "    .dataframe thead th {\n",
       "        text-align: left;\n",
       "    }\n",
       "\n",
       "    .dataframe tbody tr th {\n",
       "        vertical-align: top;\n",
       "    }\n",
       "</style>\n",
       "<table border=\"1\" class=\"dataframe\">\n",
       "  <thead>\n",
       "    <tr style=\"text-align: right;\">\n",
       "      <th></th>\n",
       "      <th>features</th>\n",
       "      <th>coef_svc</th>\n",
       "      <th>ranking_svc</th>\n",
       "      <th>ranking_gb</th>\n",
       "      <th>ranking_rf</th>\n",
       "      <th>importance</th>\n",
       "      <th>weight</th>\n",
       "      <th>m-score</th>\n",
       "      <th>m-weight</th>\n",
       "      <th>ranking_rl</th>\n",
       "    </tr>\n",
       "  </thead>\n",
       "  <tbody>\n",
       "    <tr>\n",
       "      <th>0</th>\n",
       "      <td>satisfaction_level</td>\n",
       "      <td>1.305496</td>\n",
       "      <td>1</td>\n",
       "      <td>1</td>\n",
       "      <td>1</td>\n",
       "      <td>0.294384</td>\n",
       "      <td>1.000000</td>\n",
       "      <td>0.265709</td>\n",
       "      <td>1.000000</td>\n",
       "      <td>1</td>\n",
       "    </tr>\n",
       "    <tr>\n",
       "      <th>3</th>\n",
       "      <td>time_spend_company</td>\n",
       "      <td>0.172489</td>\n",
       "      <td>4</td>\n",
       "      <td>2</td>\n",
       "      <td>2</td>\n",
       "      <td>0.264297</td>\n",
       "      <td>0.897794</td>\n",
       "      <td>0.083505</td>\n",
       "      <td>0.314272</td>\n",
       "      <td>6</td>\n",
       "    </tr>\n",
       "    <tr>\n",
       "      <th>5</th>\n",
       "      <td>average_montly_hours</td>\n",
       "      <td>0.002483</td>\n",
       "      <td>6</td>\n",
       "      <td>3</td>\n",
       "      <td>3</td>\n",
       "      <td>0.135183</td>\n",
       "      <td>0.459206</td>\n",
       "      <td>0.128516</td>\n",
       "      <td>0.483673</td>\n",
       "      <td>18</td>\n",
       "    </tr>\n",
       "    <tr>\n",
       "      <th>4</th>\n",
       "      <td>number_project</td>\n",
       "      <td>0.100469</td>\n",
       "      <td>5</td>\n",
       "      <td>4</td>\n",
       "      <td>4</td>\n",
       "      <td>0.161408</td>\n",
       "      <td>0.548289</td>\n",
       "      <td>0.177603</td>\n",
       "      <td>0.668412</td>\n",
       "      <td>9</td>\n",
       "    </tr>\n",
       "    <tr>\n",
       "      <th>14</th>\n",
       "      <td>last_evaluation</td>\n",
       "      <td>0.000000</td>\n",
       "      <td>15</td>\n",
       "      <td>5</td>\n",
       "      <td>5</td>\n",
       "      <td>0.118715</td>\n",
       "      <td>0.403264</td>\n",
       "      <td>0.099623</td>\n",
       "      <td>0.374932</td>\n",
       "      <td>8</td>\n",
       "    </tr>\n",
       "    <tr>\n",
       "      <th>2</th>\n",
       "      <td>salary</td>\n",
       "      <td>0.213063</td>\n",
       "      <td>3</td>\n",
       "      <td>6</td>\n",
       "      <td>7</td>\n",
       "      <td>0.009371</td>\n",
       "      <td>0.031833</td>\n",
       "      <td>0.017890</td>\n",
       "      <td>0.067329</td>\n",
       "      <td>4</td>\n",
       "    </tr>\n",
       "    <tr>\n",
       "      <th>1</th>\n",
       "      <td>Work_accident</td>\n",
       "      <td>0.399984</td>\n",
       "      <td>2</td>\n",
       "      <td>7</td>\n",
       "      <td>6</td>\n",
       "      <td>0.012158</td>\n",
       "      <td>0.041299</td>\n",
       "      <td>0.017456</td>\n",
       "      <td>0.065696</td>\n",
       "      <td>2</td>\n",
       "    </tr>\n",
       "    <tr>\n",
       "      <th>9</th>\n",
       "      <td>product_mng</td>\n",
       "      <td>0.000000</td>\n",
       "      <td>10</td>\n",
       "      <td>8</td>\n",
       "      <td>17</td>\n",
       "      <td>0.000079</td>\n",
       "      <td>0.000268</td>\n",
       "      <td>NaN</td>\n",
       "      <td>NaN</td>\n",
       "      <td>16</td>\n",
       "    </tr>\n",
       "    <tr>\n",
       "      <th>17</th>\n",
       "      <td>technical</td>\n",
       "      <td>0.000000</td>\n",
       "      <td>18</td>\n",
       "      <td>9</td>\n",
       "      <td>8</td>\n",
       "      <td>0.000918</td>\n",
       "      <td>0.003118</td>\n",
       "      <td>0.004315</td>\n",
       "      <td>0.016241</td>\n",
       "      <td>12</td>\n",
       "    </tr>\n",
       "    <tr>\n",
       "      <th>12</th>\n",
       "      <td>hr</td>\n",
       "      <td>0.000000</td>\n",
       "      <td>13</td>\n",
       "      <td>10</td>\n",
       "      <td>14</td>\n",
       "      <td>0.000296</td>\n",
       "      <td>0.001005</td>\n",
       "      <td>NaN</td>\n",
       "      <td>NaN</td>\n",
       "      <td>10</td>\n",
       "    </tr>\n",
       "    <tr>\n",
       "      <th>16</th>\n",
       "      <td>promotion_last_5years</td>\n",
       "      <td>0.000000</td>\n",
       "      <td>17</td>\n",
       "      <td>11</td>\n",
       "      <td>10</td>\n",
       "      <td>0.000975</td>\n",
       "      <td>0.003313</td>\n",
       "      <td>0.004868</td>\n",
       "      <td>0.018323</td>\n",
       "      <td>3</td>\n",
       "    </tr>\n",
       "    <tr>\n",
       "      <th>15</th>\n",
       "      <td>IT</td>\n",
       "      <td>0.000000</td>\n",
       "      <td>16</td>\n",
       "      <td>12</td>\n",
       "      <td>15</td>\n",
       "      <td>0.000123</td>\n",
       "      <td>0.000418</td>\n",
       "      <td>0.004464</td>\n",
       "      <td>0.016801</td>\n",
       "      <td>17</td>\n",
       "    </tr>\n",
       "    <tr>\n",
       "      <th>7</th>\n",
       "      <td>support</td>\n",
       "      <td>0.000000</td>\n",
       "      <td>8</td>\n",
       "      <td>13</td>\n",
       "      <td>13</td>\n",
       "      <td>0.000329</td>\n",
       "      <td>0.001119</td>\n",
       "      <td>NaN</td>\n",
       "      <td>NaN</td>\n",
       "      <td>13</td>\n",
       "    </tr>\n",
       "    <tr>\n",
       "      <th>6</th>\n",
       "      <td>management</td>\n",
       "      <td>0.000000</td>\n",
       "      <td>7</td>\n",
       "      <td>14</td>\n",
       "      <td>11</td>\n",
       "      <td>0.000553</td>\n",
       "      <td>0.001879</td>\n",
       "      <td>0.006570</td>\n",
       "      <td>0.024726</td>\n",
       "      <td>5</td>\n",
       "    </tr>\n",
       "    <tr>\n",
       "      <th>11</th>\n",
       "      <td>RandD</td>\n",
       "      <td>0.000000</td>\n",
       "      <td>12</td>\n",
       "      <td>15</td>\n",
       "      <td>12</td>\n",
       "      <td>0.000398</td>\n",
       "      <td>0.001353</td>\n",
       "      <td>NaN</td>\n",
       "      <td>NaN</td>\n",
       "      <td>7</td>\n",
       "    </tr>\n",
       "    <tr>\n",
       "      <th>13</th>\n",
       "      <td>accounting</td>\n",
       "      <td>0.000000</td>\n",
       "      <td>14</td>\n",
       "      <td>16</td>\n",
       "      <td>16</td>\n",
       "      <td>0.000095</td>\n",
       "      <td>0.000322</td>\n",
       "      <td>0.001218</td>\n",
       "      <td>0.004585</td>\n",
       "      <td>14</td>\n",
       "    </tr>\n",
       "    <tr>\n",
       "      <th>8</th>\n",
       "      <td>sales</td>\n",
       "      <td>0.000000</td>\n",
       "      <td>9</td>\n",
       "      <td>17</td>\n",
       "      <td>9</td>\n",
       "      <td>0.000673</td>\n",
       "      <td>0.002285</td>\n",
       "      <td>0.006001</td>\n",
       "      <td>0.022586</td>\n",
       "      <td>15</td>\n",
       "    </tr>\n",
       "    <tr>\n",
       "      <th>10</th>\n",
       "      <td>marketing</td>\n",
       "      <td>0.000000</td>\n",
       "      <td>11</td>\n",
       "      <td>18</td>\n",
       "      <td>18</td>\n",
       "      <td>0.000045</td>\n",
       "      <td>0.000154</td>\n",
       "      <td>NaN</td>\n",
       "      <td>NaN</td>\n",
       "      <td>11</td>\n",
       "    </tr>\n",
       "  </tbody>\n",
       "</table>\n",
       "</div>"
      ],
      "text/plain": [
       "                 features  coef_svc  ranking_svc  ranking_gb  ranking_rf  \\\n",
       "0      satisfaction_level  1.305496            1           1           1   \n",
       "3      time_spend_company  0.172489            4           2           2   \n",
       "5    average_montly_hours  0.002483            6           3           3   \n",
       "4          number_project  0.100469            5           4           4   \n",
       "14        last_evaluation  0.000000           15           5           5   \n",
       "2                  salary  0.213063            3           6           7   \n",
       "1           Work_accident  0.399984            2           7           6   \n",
       "9             product_mng  0.000000           10           8          17   \n",
       "17              technical  0.000000           18           9           8   \n",
       "12                     hr  0.000000           13          10          14   \n",
       "16  promotion_last_5years  0.000000           17          11          10   \n",
       "15                     IT  0.000000           16          12          15   \n",
       "7                 support  0.000000            8          13          13   \n",
       "6              management  0.000000            7          14          11   \n",
       "11                  RandD  0.000000           12          15          12   \n",
       "13             accounting  0.000000           14          16          16   \n",
       "8                   sales  0.000000            9          17           9   \n",
       "10              marketing  0.000000           11          18          18   \n",
       "\n",
       "    importance    weight   m-score  m-weight  ranking_rl  \n",
       "0     0.294384  1.000000  0.265709  1.000000           1  \n",
       "3     0.264297  0.897794  0.083505  0.314272           6  \n",
       "5     0.135183  0.459206  0.128516  0.483673          18  \n",
       "4     0.161408  0.548289  0.177603  0.668412           9  \n",
       "14    0.118715  0.403264  0.099623  0.374932           8  \n",
       "2     0.009371  0.031833  0.017890  0.067329           4  \n",
       "1     0.012158  0.041299  0.017456  0.065696           2  \n",
       "9     0.000079  0.000268       NaN       NaN          16  \n",
       "17    0.000918  0.003118  0.004315  0.016241          12  \n",
       "12    0.000296  0.001005       NaN       NaN          10  \n",
       "16    0.000975  0.003313  0.004868  0.018323           3  \n",
       "15    0.000123  0.000418  0.004464  0.016801          17  \n",
       "7     0.000329  0.001119       NaN       NaN          13  \n",
       "6     0.000553  0.001879  0.006570  0.024726           5  \n",
       "11    0.000398  0.001353       NaN       NaN           7  \n",
       "13    0.000095  0.000322  0.001218  0.004585          14  \n",
       "8     0.000673  0.002285  0.006001  0.022586          15  \n",
       "10    0.000045  0.000154       NaN       NaN          11  "
      ]
     },
     "execution_count": 105,
     "metadata": {},
     "output_type": "execute_result"
    }
   ],
   "source": [
    "selected_features=pd.merge(left=features_svc,right=selected_features, how='right', on='features', \n",
    "                           left_on=None, right_on=None,left_index=False, right_index=False, \n",
    "                           sort=False,suffixes=('_svc', '_sf'), copy=True, indicator=False)\n",
    "selected_features.sort_values(by='ranking_gb',ascending=True)"
   ]
  },
  {
   "cell_type": "markdown",
   "metadata": {},
   "source": [
    "## Principales conclusiones\n",
    "\n",
    "* Utilizando los resultados presentados en la última tabla, seleccionamos las siguientes variables:\n",
    "\n",
    "     * nivel de satisfacción\n",
    "     * tiempo en la compañia\n",
    "     * número de horas trabajas promedio mensualmente en los últimos 12 meses\n",
    "     * Número de proyectos en los que ha participado\n",
    "     + última evaluación\n",
    "     * Salario\n",
    "    \n",
    "    \n",
    "* Argumentos para descartar la variable última evaluación porque: \n",
    "    \n",
    "    * Aparece consistentemente como una variable significativa cuando utilizamos los algoritmos de árboles (RF y\n",
    "    GB), pero al momento de utilizar el algoritmo de RL y SVC lineal el peso de esta variable es significativamente\n",
    "    menor. \n",
    "    \n",
    "    * Si observamos su distribución según valor del target, podemos ver que es bastante similar y, en promedio, no\n",
    "    presenta diferencias (0.71 ambos) y sus desviaciones son muy similares (0.16 vs 0.19). \n",
    "    \n",
    "\n",
    "* Argumentos para no descartar la variable última evaluación:\n",
    "    \n",
    "    * Es posible que su significancia sea conjunta y no individual, y por esa razón los árboles capturan bien su \n",
    "    importancia mientras que el RFE con Regresión logística no\n",
    "    \n",
    "    * Siguiendo la linea del argumento anterior, Tiene una correlación media con las variables número de \n",
    "    proyectos y número de horas promedio trabajadas en los últimos 12 meses (0.35 y 0.34), por lo tanto es \n",
    "    posible que el modelo de regresión lineal logístico se vea afectado por esto y que lo más conveniente hubiera \n",
    "    sido crear una variable que demuestre la interacción entre estas 3 variables\n",
    "    \n",
    "    * Es posible que su relación con el target no sea lineal y por lo tanto los modelos lineales no capturan \n",
    "    adecuadamente su importancia en términos de detección de patrones que permiten predecir la fuga\n",
    "    \n",
    "    * Por la misma razón de arriba que SVC lineal no haya detectado relevancia en la variable última evaluació     \n",
    "    porque no puede encontrar el vector de separación de forma lineal y habría que usar una variación de este\n",
    "    \n",
    "    * Fuentes utilizadas:\n",
    "    \n",
    "    *<http://www.estadistica.net/ECONOMETRIA/CUALITATIVAS/LOGISTICA/regresion-logistica.pdf>*\n",
    "    \n",
    "    *<https://github.com/rasbt/python-machine-learning-book/blob/master/faq/select_svm_kernels.md>*\n",
    "\n",
    "\n",
    "* Posteriormente, utilizamos un criterio de negocio para descartar la variable de accidente en el trabajo, a pesar de que obtiene un buen ranking en todas las evaluaciones. Nuestra hipótesis es que se trata de un falso predictor .Si observamos cómo se distribuye esta según valor del target, podemos ver que hay que la proporción de accidentes es mayor en las personas que se quedan que en las que se van.Esto se puede presentar por varias razones, pero es poco razonable pensar que una de las razones para no irse es no tener accidentes en el trabajo o bien que una de las razones para quedarse es tener más accidentes en el trabajo.\n",
    "\n",
    "\n",
    "* El resto de las variables está consistentemente evaluada por debajo de las primeras 10 en todos los algoritmos, con puntajes bajos (y peso relativo bajo) y/o una mezcla de ambos"
   ]
  }
 ],
 "metadata": {
  "kernelspec": {
   "display_name": "Python 3",
   "language": "python",
   "name": "python3"
  },
  "language_info": {
   "codemirror_mode": {
    "name": "ipython",
    "version": 3
   },
   "file_extension": ".py",
   "mimetype": "text/x-python",
   "name": "python",
   "nbconvert_exporter": "python",
   "pygments_lexer": "ipython3",
   "version": "3.6.1"
  }
 },
 "nbformat": 4,
 "nbformat_minor": 2
}
